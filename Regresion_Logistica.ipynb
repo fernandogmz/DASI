{
  "nbformat": 4,
  "nbformat_minor": 0,
  "metadata": {
    "colab": {
      "provenance": []
    },
    "kernelspec": {
      "name": "python3",
      "display_name": "Python 3"
    },
    "language_info": {
      "name": "python"
    }
  },
  "cells": [
    {
      "cell_type": "markdown",
      "metadata": {
        "id": "1292f933"
      },
      "source": [
        "Integrantes:\n",
        "\n",
        "David Bugoi\n",
        "\n",
        "Fernando Javier Gómez Márquez\n",
        "\n",
        "Daniel Hernández Martínez"
      ]
    },
    {
      "cell_type": "markdown",
      "metadata": {
        "id": "c552689c"
      },
      "source": [
        "### Carga de datos"
      ]
    },
    {
      "cell_type": "markdown",
      "metadata": {
        "id": "1b1da323"
      },
      "source": [
        "Dataset: https://www.kaggle.com/datasets/fedesoriano/heart-failure-prediction"
      ]
    },
    {
      "cell_type": "code",
      "execution_count": 78,
      "metadata": {
        "id": "cfc8d44a"
      },
      "outputs": [],
      "source": [
        "import pandas as pd\n",
        "import numpy as np\n",
        "import seaborn as sns\n",
        "import plotly.express as px\n",
        "from sklearn.preprocessing import OneHotEncoder\n",
        "from sklearn.model_selection import train_test_split\n",
        "from sklearn import preprocessing\n",
        "from sklearn.tree import DecisionTreeClassifier, plot_tree\n",
        "\n",
        "import matplotlib.pyplot as plt\n",
        "import os.path"
      ]
    },
    {
      "cell_type": "code",
      "execution_count": 79,
      "metadata": {
        "id": "a5a5e072"
      },
      "outputs": [],
      "source": [
        "RANDOM_STATE = 813"
      ]
    },
    {
      "cell_type": "code",
      "source": [
        "def genera_df(ficherocsv, nro_filas=None):\n",
        "    try:\n",
        "      from google.colab import drive\n",
        "      drive.mount('/content/drive')\n",
        "      df = pd.read_csv(os.path.join('drive/MyDrive/Colab Notebooks/',ficherocsv), nrows=nro_filas)\n",
        "    except:   # si no es en google colab, se supone que estamos ejecutando el notebook en nuestro servidor local y que el fichero está en el mismo directorio\n",
        "      df = pd.read_csv(ficherocsv, nrows=nro_filas)\n",
        "    return df"
      ],
      "metadata": {
        "id": "t7fCO2azTKke"
      },
      "execution_count": 80,
      "outputs": []
    },
    {
      "cell_type": "code",
      "source": [
        "fdatos = 'heart.csv'\n",
        "df = genera_df(fdatos)"
      ],
      "metadata": {
        "id": "tU29EIhSTPV8",
        "colab": {
          "base_uri": "https://localhost:8080/"
        },
        "outputId": "7ea3fbd4-52a2-4189-d5e3-78591c8afcf5"
      },
      "execution_count": 81,
      "outputs": [
        {
          "output_type": "stream",
          "name": "stdout",
          "text": [
            "Drive already mounted at /content/drive; to attempt to forcibly remount, call drive.mount(\"/content/drive\", force_remount=True).\n"
          ]
        }
      ]
    },
    {
      "cell_type": "code",
      "source": [
        "df"
      ],
      "metadata": {
        "colab": {
          "base_uri": "https://localhost:8080/",
          "height": 424
        },
        "id": "KmDMtA1DTq8N",
        "outputId": "d55413d7-3f16-4921-a40a-7bc91c7d7643"
      },
      "execution_count": 82,
      "outputs": [
        {
          "output_type": "execute_result",
          "data": {
            "text/plain": [
              "     Age Sex ChestPainType  RestingBP  Cholesterol  FastingBS RestingECG  \\\n",
              "0     40   M           ATA        140          289          0     Normal   \n",
              "1     49   F           NAP        160          180          0     Normal   \n",
              "2     37   M           ATA        130          283          0         ST   \n",
              "3     48   F           ASY        138          214          0     Normal   \n",
              "4     54   M           NAP        150          195          0     Normal   \n",
              "..   ...  ..           ...        ...          ...        ...        ...   \n",
              "913   45   M            TA        110          264          0     Normal   \n",
              "914   68   M           ASY        144          193          1     Normal   \n",
              "915   57   M           ASY        130          131          0     Normal   \n",
              "916   57   F           ATA        130          236          0        LVH   \n",
              "917   38   M           NAP        138          175          0     Normal   \n",
              "\n",
              "     MaxHR ExerciseAngina  Oldpeak ST_Slope  HeartDisease  \n",
              "0      172              N      0.0       Up             0  \n",
              "1      156              N      1.0     Flat             1  \n",
              "2       98              N      0.0       Up             0  \n",
              "3      108              Y      1.5     Flat             1  \n",
              "4      122              N      0.0       Up             0  \n",
              "..     ...            ...      ...      ...           ...  \n",
              "913    132              N      1.2     Flat             1  \n",
              "914    141              N      3.4     Flat             1  \n",
              "915    115              Y      1.2     Flat             1  \n",
              "916    174              N      0.0     Flat             1  \n",
              "917    173              N      0.0       Up             0  \n",
              "\n",
              "[918 rows x 12 columns]"
            ],
            "text/html": [
              "\n",
              "  <div id=\"df-d893ab24-c152-428c-bfe5-2156ed24a4e7\">\n",
              "    <div class=\"colab-df-container\">\n",
              "      <div>\n",
              "<style scoped>\n",
              "    .dataframe tbody tr th:only-of-type {\n",
              "        vertical-align: middle;\n",
              "    }\n",
              "\n",
              "    .dataframe tbody tr th {\n",
              "        vertical-align: top;\n",
              "    }\n",
              "\n",
              "    .dataframe thead th {\n",
              "        text-align: right;\n",
              "    }\n",
              "</style>\n",
              "<table border=\"1\" class=\"dataframe\">\n",
              "  <thead>\n",
              "    <tr style=\"text-align: right;\">\n",
              "      <th></th>\n",
              "      <th>Age</th>\n",
              "      <th>Sex</th>\n",
              "      <th>ChestPainType</th>\n",
              "      <th>RestingBP</th>\n",
              "      <th>Cholesterol</th>\n",
              "      <th>FastingBS</th>\n",
              "      <th>RestingECG</th>\n",
              "      <th>MaxHR</th>\n",
              "      <th>ExerciseAngina</th>\n",
              "      <th>Oldpeak</th>\n",
              "      <th>ST_Slope</th>\n",
              "      <th>HeartDisease</th>\n",
              "    </tr>\n",
              "  </thead>\n",
              "  <tbody>\n",
              "    <tr>\n",
              "      <th>0</th>\n",
              "      <td>40</td>\n",
              "      <td>M</td>\n",
              "      <td>ATA</td>\n",
              "      <td>140</td>\n",
              "      <td>289</td>\n",
              "      <td>0</td>\n",
              "      <td>Normal</td>\n",
              "      <td>172</td>\n",
              "      <td>N</td>\n",
              "      <td>0.0</td>\n",
              "      <td>Up</td>\n",
              "      <td>0</td>\n",
              "    </tr>\n",
              "    <tr>\n",
              "      <th>1</th>\n",
              "      <td>49</td>\n",
              "      <td>F</td>\n",
              "      <td>NAP</td>\n",
              "      <td>160</td>\n",
              "      <td>180</td>\n",
              "      <td>0</td>\n",
              "      <td>Normal</td>\n",
              "      <td>156</td>\n",
              "      <td>N</td>\n",
              "      <td>1.0</td>\n",
              "      <td>Flat</td>\n",
              "      <td>1</td>\n",
              "    </tr>\n",
              "    <tr>\n",
              "      <th>2</th>\n",
              "      <td>37</td>\n",
              "      <td>M</td>\n",
              "      <td>ATA</td>\n",
              "      <td>130</td>\n",
              "      <td>283</td>\n",
              "      <td>0</td>\n",
              "      <td>ST</td>\n",
              "      <td>98</td>\n",
              "      <td>N</td>\n",
              "      <td>0.0</td>\n",
              "      <td>Up</td>\n",
              "      <td>0</td>\n",
              "    </tr>\n",
              "    <tr>\n",
              "      <th>3</th>\n",
              "      <td>48</td>\n",
              "      <td>F</td>\n",
              "      <td>ASY</td>\n",
              "      <td>138</td>\n",
              "      <td>214</td>\n",
              "      <td>0</td>\n",
              "      <td>Normal</td>\n",
              "      <td>108</td>\n",
              "      <td>Y</td>\n",
              "      <td>1.5</td>\n",
              "      <td>Flat</td>\n",
              "      <td>1</td>\n",
              "    </tr>\n",
              "    <tr>\n",
              "      <th>4</th>\n",
              "      <td>54</td>\n",
              "      <td>M</td>\n",
              "      <td>NAP</td>\n",
              "      <td>150</td>\n",
              "      <td>195</td>\n",
              "      <td>0</td>\n",
              "      <td>Normal</td>\n",
              "      <td>122</td>\n",
              "      <td>N</td>\n",
              "      <td>0.0</td>\n",
              "      <td>Up</td>\n",
              "      <td>0</td>\n",
              "    </tr>\n",
              "    <tr>\n",
              "      <th>...</th>\n",
              "      <td>...</td>\n",
              "      <td>...</td>\n",
              "      <td>...</td>\n",
              "      <td>...</td>\n",
              "      <td>...</td>\n",
              "      <td>...</td>\n",
              "      <td>...</td>\n",
              "      <td>...</td>\n",
              "      <td>...</td>\n",
              "      <td>...</td>\n",
              "      <td>...</td>\n",
              "      <td>...</td>\n",
              "    </tr>\n",
              "    <tr>\n",
              "      <th>913</th>\n",
              "      <td>45</td>\n",
              "      <td>M</td>\n",
              "      <td>TA</td>\n",
              "      <td>110</td>\n",
              "      <td>264</td>\n",
              "      <td>0</td>\n",
              "      <td>Normal</td>\n",
              "      <td>132</td>\n",
              "      <td>N</td>\n",
              "      <td>1.2</td>\n",
              "      <td>Flat</td>\n",
              "      <td>1</td>\n",
              "    </tr>\n",
              "    <tr>\n",
              "      <th>914</th>\n",
              "      <td>68</td>\n",
              "      <td>M</td>\n",
              "      <td>ASY</td>\n",
              "      <td>144</td>\n",
              "      <td>193</td>\n",
              "      <td>1</td>\n",
              "      <td>Normal</td>\n",
              "      <td>141</td>\n",
              "      <td>N</td>\n",
              "      <td>3.4</td>\n",
              "      <td>Flat</td>\n",
              "      <td>1</td>\n",
              "    </tr>\n",
              "    <tr>\n",
              "      <th>915</th>\n",
              "      <td>57</td>\n",
              "      <td>M</td>\n",
              "      <td>ASY</td>\n",
              "      <td>130</td>\n",
              "      <td>131</td>\n",
              "      <td>0</td>\n",
              "      <td>Normal</td>\n",
              "      <td>115</td>\n",
              "      <td>Y</td>\n",
              "      <td>1.2</td>\n",
              "      <td>Flat</td>\n",
              "      <td>1</td>\n",
              "    </tr>\n",
              "    <tr>\n",
              "      <th>916</th>\n",
              "      <td>57</td>\n",
              "      <td>F</td>\n",
              "      <td>ATA</td>\n",
              "      <td>130</td>\n",
              "      <td>236</td>\n",
              "      <td>0</td>\n",
              "      <td>LVH</td>\n",
              "      <td>174</td>\n",
              "      <td>N</td>\n",
              "      <td>0.0</td>\n",
              "      <td>Flat</td>\n",
              "      <td>1</td>\n",
              "    </tr>\n",
              "    <tr>\n",
              "      <th>917</th>\n",
              "      <td>38</td>\n",
              "      <td>M</td>\n",
              "      <td>NAP</td>\n",
              "      <td>138</td>\n",
              "      <td>175</td>\n",
              "      <td>0</td>\n",
              "      <td>Normal</td>\n",
              "      <td>173</td>\n",
              "      <td>N</td>\n",
              "      <td>0.0</td>\n",
              "      <td>Up</td>\n",
              "      <td>0</td>\n",
              "    </tr>\n",
              "  </tbody>\n",
              "</table>\n",
              "<p>918 rows × 12 columns</p>\n",
              "</div>\n",
              "      <button class=\"colab-df-convert\" onclick=\"convertToInteractive('df-d893ab24-c152-428c-bfe5-2156ed24a4e7')\"\n",
              "              title=\"Convert this dataframe to an interactive table.\"\n",
              "              style=\"display:none;\">\n",
              "        \n",
              "  <svg xmlns=\"http://www.w3.org/2000/svg\" height=\"24px\"viewBox=\"0 0 24 24\"\n",
              "       width=\"24px\">\n",
              "    <path d=\"M0 0h24v24H0V0z\" fill=\"none\"/>\n",
              "    <path d=\"M18.56 5.44l.94 2.06.94-2.06 2.06-.94-2.06-.94-.94-2.06-.94 2.06-2.06.94zm-11 1L8.5 8.5l.94-2.06 2.06-.94-2.06-.94L8.5 2.5l-.94 2.06-2.06.94zm10 10l.94 2.06.94-2.06 2.06-.94-2.06-.94-.94-2.06-.94 2.06-2.06.94z\"/><path d=\"M17.41 7.96l-1.37-1.37c-.4-.4-.92-.59-1.43-.59-.52 0-1.04.2-1.43.59L10.3 9.45l-7.72 7.72c-.78.78-.78 2.05 0 2.83L4 21.41c.39.39.9.59 1.41.59.51 0 1.02-.2 1.41-.59l7.78-7.78 2.81-2.81c.8-.78.8-2.07 0-2.86zM5.41 20L4 18.59l7.72-7.72 1.47 1.35L5.41 20z\"/>\n",
              "  </svg>\n",
              "      </button>\n",
              "      \n",
              "  <style>\n",
              "    .colab-df-container {\n",
              "      display:flex;\n",
              "      flex-wrap:wrap;\n",
              "      gap: 12px;\n",
              "    }\n",
              "\n",
              "    .colab-df-convert {\n",
              "      background-color: #E8F0FE;\n",
              "      border: none;\n",
              "      border-radius: 50%;\n",
              "      cursor: pointer;\n",
              "      display: none;\n",
              "      fill: #1967D2;\n",
              "      height: 32px;\n",
              "      padding: 0 0 0 0;\n",
              "      width: 32px;\n",
              "    }\n",
              "\n",
              "    .colab-df-convert:hover {\n",
              "      background-color: #E2EBFA;\n",
              "      box-shadow: 0px 1px 2px rgba(60, 64, 67, 0.3), 0px 1px 3px 1px rgba(60, 64, 67, 0.15);\n",
              "      fill: #174EA6;\n",
              "    }\n",
              "\n",
              "    [theme=dark] .colab-df-convert {\n",
              "      background-color: #3B4455;\n",
              "      fill: #D2E3FC;\n",
              "    }\n",
              "\n",
              "    [theme=dark] .colab-df-convert:hover {\n",
              "      background-color: #434B5C;\n",
              "      box-shadow: 0px 1px 3px 1px rgba(0, 0, 0, 0.15);\n",
              "      filter: drop-shadow(0px 1px 2px rgba(0, 0, 0, 0.3));\n",
              "      fill: #FFFFFF;\n",
              "    }\n",
              "  </style>\n",
              "\n",
              "      <script>\n",
              "        const buttonEl =\n",
              "          document.querySelector('#df-d893ab24-c152-428c-bfe5-2156ed24a4e7 button.colab-df-convert');\n",
              "        buttonEl.style.display =\n",
              "          google.colab.kernel.accessAllowed ? 'block' : 'none';\n",
              "\n",
              "        async function convertToInteractive(key) {\n",
              "          const element = document.querySelector('#df-d893ab24-c152-428c-bfe5-2156ed24a4e7');\n",
              "          const dataTable =\n",
              "            await google.colab.kernel.invokeFunction('convertToInteractive',\n",
              "                                                     [key], {});\n",
              "          if (!dataTable) return;\n",
              "\n",
              "          const docLinkHtml = 'Like what you see? Visit the ' +\n",
              "            '<a target=\"_blank\" href=https://colab.research.google.com/notebooks/data_table.ipynb>data table notebook</a>'\n",
              "            + ' to learn more about interactive tables.';\n",
              "          element.innerHTML = '';\n",
              "          dataTable['output_type'] = 'display_data';\n",
              "          await google.colab.output.renderOutput(dataTable, element);\n",
              "          const docLink = document.createElement('div');\n",
              "          docLink.innerHTML = docLinkHtml;\n",
              "          element.appendChild(docLink);\n",
              "        }\n",
              "      </script>\n",
              "    </div>\n",
              "  </div>\n",
              "  "
            ]
          },
          "metadata": {},
          "execution_count": 82
        }
      ]
    },
    {
      "cell_type": "markdown",
      "source": [
        "Preparar conjuntos de datos para entrenamiento, pruebas y validación"
      ],
      "metadata": {
        "id": "UDwmjk_Ziv9C"
      }
    },
    {
      "cell_type": "code",
      "source": [
        "X = df.drop(['HeartDisease'], axis=1).values\n",
        "Y = df['HeartDisease'].values"
      ],
      "metadata": {
        "id": "EVX8lC26WZIU"
      },
      "execution_count": 83,
      "outputs": []
    },
    {
      "cell_type": "code",
      "source": [
        "from sklearn.model_selection import train_test_split\n",
        "\n",
        "X_train, X_test, Y_train, Y_test = train_test_split(X, Y, test_size=0.1, random_state = RANDOM_STATE)\n",
        "X_train, X_val, Y_train, Y_val = train_test_split(X_train, Y_train, test_size=0.1, random_state = RANDOM_STATE)\n",
        "\n",
        "print(X_train.shape, X_test.shape, X_val.shape)"
      ],
      "metadata": {
        "colab": {
          "base_uri": "https://localhost:8080/"
        },
        "id": "_6GiPYuCWzDd",
        "outputId": "fd2e8e80-4105-41ae-d391-98f52346a47b"
      },
      "execution_count": 84,
      "outputs": [
        {
          "output_type": "stream",
          "name": "stdout",
          "text": [
            "(743, 11) (92, 11) (83, 11)\n"
          ]
        }
      ]
    },
    {
      "cell_type": "markdown",
      "source": [
        "Preparar y aplicar OneHotEncoder"
      ],
      "metadata": {
        "id": "FJjr55eli3l1"
      }
    },
    {
      "cell_type": "code",
      "source": [
        "from sklearn.preprocessing import OneHotEncoder\n",
        "enc = OneHotEncoder(handle_unknown='ignore')\n",
        "\n",
        "X_train_enc = enc.fit_transform(X_train)\n",
        "X_test_enc = enc.transform(X_test)\n",
        "X_val_enc = enc.transform(X_val)"
      ],
      "metadata": {
        "id": "3397X4i4YjOY"
      },
      "execution_count": 85,
      "outputs": []
    },
    {
      "cell_type": "markdown",
      "source": [
        "Identificar función de coste de acuerdo a la versión de sklearn"
      ],
      "metadata": {
        "id": "pHVnVU7TjV-X"
      }
    },
    {
      "cell_type": "code",
      "source": [
        "import sklearn\n",
        "if (sklearn.__version__ < \"1.1.0\"):\n",
        "  funcion_coste = 'log'\n",
        "else:\n",
        "  funcion_coste = 'log_loss'\n",
        "funcion_coste"
      ],
      "metadata": {
        "colab": {
          "base_uri": "https://localhost:8080/",
          "height": 35
        },
        "id": "SCC8RkVzXrcP",
        "outputId": "6d503315-1587-4f77-dd2e-7908f8d31648"
      },
      "execution_count": 86,
      "outputs": [
        {
          "output_type": "execute_result",
          "data": {
            "text/plain": [
              "'log_loss'"
            ],
            "application/vnd.google.colaboratory.intrinsic+json": {
              "type": "string"
            }
          },
          "metadata": {},
          "execution_count": 86
        }
      ]
    },
    {
      "cell_type": "markdown",
      "source": [
        "**Entrenamiento con diferentes parámetros**"
      ],
      "metadata": {
        "id": "MZy32sWe8K9x"
      }
    },
    {
      "cell_type": "code",
      "source": [
        "from sklearn.linear_model import SGDClassifier\n",
        "from sklearn.metrics import accuracy_score"
      ],
      "metadata": {
        "id": "CPcJrrWE_N2a"
      },
      "execution_count": 87,
      "outputs": []
    },
    {
      "cell_type": "markdown",
      "source": [
        "Parámetros y valores a comprobar con el modelo de regresión logística\n",
        "\n",
        "|Param|Values|\n",
        "|--|--|\n",
        "|penalty | None , L1|\n",
        "|max_iter | 10 , 100 |\n",
        "|learning_rate | constant , optimal |\n",
        "|alpha (learning_rate=optimal) | 0.00001 ,\t0.0001 ,\t0.001 ,\t0.01 ,\t0.1 ,\t1\t, 10 |\n",
        "|eta0 (learning_rate=constant) | 0.001 ,\t0.01\t, 0.1\t, 1\t, 10 |\n",
        "\n",
        "\n",
        "\n"
      ],
      "metadata": {
        "id": "HHLszkFV9Dtj"
      }
    },
    {
      "cell_type": "code",
      "source": [
        "penalties = [None,'l1']\n",
        "iterations = [10,100]\n",
        "learning_rates = ['constant','optimal']\n",
        "alphas = [0.00001 ,\t0.0001 ,\t0.001 ,\t0.01 ,\t0.1 ,\t1\t, 10]\n",
        "etas = [0.001 ,\t0.01\t, 0.1\t, 1\t, 10]"
      ],
      "metadata": {
        "id": "E8zJKeT5-sxc"
      },
      "execution_count": 88,
      "outputs": []
    },
    {
      "cell_type": "markdown",
      "source": [
        "![Captura de pantalla 2023-05-02 a la(s) 19.47.10.png](data:image/png;base64,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)"
      ],
      "metadata": {
        "id": "ZXjIUGD1kRzy"
      }
    },
    {
      "cell_type": "code",
      "source": [
        "import warnings\n",
        "warnings.filterwarnings('ignore')\n",
        "\n",
        "## Train Model\n",
        "def logTrain(args): # penalty, max_iter, learning_rate, alpha, eta0\n",
        "  log_classifier = SGDClassifier(loss=funcion_coste,  fit_intercept=True, **args)\n",
        "  log_classifier.fit(X_train_enc.toarray(), Y_train)\n",
        "  # Generate prediction\n",
        "  prediction = log_classifier.predict(X_test_enc)\n",
        "  # Calculate accuracy\n",
        "  accuracy = accuracy_score(Y_test,prediction)\n",
        "  return accuracy\n",
        "\n",
        "# Table structure\n",
        "# learning_rate penalty eta alpha max_iterations accuracy \n",
        "results = []\n",
        "\n",
        "for learning_rate in learning_rates:\n",
        "  for penalty in penalties:\n",
        "    if learning_rate == 'optimal': # Skip eta0\n",
        "      for alpha in alphas:\n",
        "        for iteration in iterations:\n",
        "          print('=> learning_rate [{rate}] Penalty [{penalty}] eta0 [XX] alpha [{alpha}]  max_iterations [{iteration}]'.format(rate=learning_rate, penalty=penalty, alpha=alpha, iteration=iteration),end='')\n",
        "\n",
        "          accuracy = logTrain({'learning_rate':learning_rate, 'penalty':penalty, 'max_iter':iteration, 'alpha':alpha })\n",
        "          \n",
        "          results.append([learning_rate, penalty, 'XX', alpha, iteration, accuracy])\n",
        "          print('    ==> Accuracy: {acc} '.format(acc=accuracy))\n",
        "           \n",
        "    else:\n",
        "      if penalty is None:\n",
        "        for eta in etas:\n",
        "          for iteration in iterations:\n",
        "            print('=> learning_rate [{rate}] Penalty [{penalty}] eta0 [{eta}] alpha [XX]  max_iterations [{iteration}]'.format(rate=learning_rate, penalty=penalty, eta=eta, iteration=iteration),end='')\n",
        "\n",
        "            accuracy = logTrain({'learning_rate':learning_rate, 'penalty':penalty, 'max_iter':iteration, 'eta0':eta })\n",
        "\n",
        "            results.append([learning_rate, penalty, eta, 'XX', iteration, accuracy])\n",
        "            print('    ==> Accuracy: {acc} '.format(acc=accuracy))\n",
        "            \n",
        "      else:\n",
        "        for eta in etas:\n",
        "          for alpha in alphas:\n",
        "            for iteration in iterations:\n",
        "              print('=> learning_rate [{rate}] Penalty [{penalty}] eta0 [{eta}] alpha [{alpha}]  max_iterations [{iteration}]'.format(rate=learning_rate, penalty=penalty, eta=eta, alpha=alpha, iteration=iteration),end='')\n",
        "\n",
        "              accuracy = logTrain({'learning_rate':learning_rate, 'penalty':penalty, 'max_iter':iteration, 'eta0':eta, 'alpha':alpha })\n",
        "\n",
        "              results.append([learning_rate, penalty, eta, alpha, iteration, accuracy])\n",
        "              print('    ==> Accuracy: {acc} '.format(acc=accuracy))\n",
        "              \n",
        "\n",
        "print(\"Numero de entrenamientos: {total}\".format(total=len(results)))\n"
      ],
      "metadata": {
        "colab": {
          "base_uri": "https://localhost:8080/"
        },
        "id": "vL9wqqHW_QAb",
        "outputId": "9812074a-1331-4e5b-95d2-cb54638e8990"
      },
      "execution_count": 89,
      "outputs": [
        {
          "output_type": "stream",
          "name": "stdout",
          "text": [
            "=> learning_rate [constant] Penalty [None] eta0 [0.001] alpha [XX]  max_iterations [10]    ==> Accuracy: 0.8478260869565217 \n",
            "=> learning_rate [constant] Penalty [None] eta0 [0.001] alpha [XX]  max_iterations [100]    ==> Accuracy: 0.8478260869565217 \n",
            "=> learning_rate [constant] Penalty [None] eta0 [0.01] alpha [XX]  max_iterations [10]    ==> Accuracy: 0.8478260869565217 \n",
            "=> learning_rate [constant] Penalty [None] eta0 [0.01] alpha [XX]  max_iterations [100]    ==> Accuracy: 0.8152173913043478 \n",
            "=> learning_rate [constant] Penalty [None] eta0 [0.1] alpha [XX]  max_iterations [10]    ==> Accuracy: 0.8260869565217391 \n",
            "=> learning_rate [constant] Penalty [None] eta0 [0.1] alpha [XX]  max_iterations [100]    ==> Accuracy: 0.7934782608695652 \n",
            "=> learning_rate [constant] Penalty [None] eta0 [1] alpha [XX]  max_iterations [10]    ==> Accuracy: 0.7608695652173914 \n",
            "=> learning_rate [constant] Penalty [None] eta0 [1] alpha [XX]  max_iterations [100]    ==> Accuracy: 0.75 \n",
            "=> learning_rate [constant] Penalty [None] eta0 [10] alpha [XX]  max_iterations [10]    ==> Accuracy: 0.8043478260869565 \n",
            "=> learning_rate [constant] Penalty [None] eta0 [10] alpha [XX]  max_iterations [100]    ==> Accuracy: 0.7717391304347826 \n",
            "=> learning_rate [constant] Penalty [l1] eta0 [0.001] alpha [1e-05]  max_iterations [10]    ==> Accuracy: 0.8478260869565217 \n",
            "=> learning_rate [constant] Penalty [l1] eta0 [0.001] alpha [1e-05]  max_iterations [100]    ==> Accuracy: 0.8478260869565217 \n",
            "=> learning_rate [constant] Penalty [l1] eta0 [0.001] alpha [0.0001]  max_iterations [10]    ==> Accuracy: 0.8478260869565217 \n",
            "=> learning_rate [constant] Penalty [l1] eta0 [0.001] alpha [0.0001]  max_iterations [100]    ==> Accuracy: 0.8478260869565217 \n",
            "=> learning_rate [constant] Penalty [l1] eta0 [0.001] alpha [0.001]  max_iterations [10]    ==> Accuracy: 0.8586956521739131 \n",
            "=> learning_rate [constant] Penalty [l1] eta0 [0.001] alpha [0.001]  max_iterations [100]    ==> Accuracy: 0.8478260869565217 \n",
            "=> learning_rate [constant] Penalty [l1] eta0 [0.001] alpha [0.01]  max_iterations [10]    ==> Accuracy: 0.8586956521739131 \n",
            "=> learning_rate [constant] Penalty [l1] eta0 [0.001] alpha [0.01]  max_iterations [100]    ==> Accuracy: 0.8695652173913043 \n",
            "=> learning_rate [constant] Penalty [l1] eta0 [0.001] alpha [0.1]  max_iterations [10]    ==> Accuracy: 0.8043478260869565 \n",
            "=> learning_rate [constant] Penalty [l1] eta0 [0.001] alpha [0.1]  max_iterations [100]    ==> Accuracy: 0.7391304347826086 \n",
            "=> learning_rate [constant] Penalty [l1] eta0 [0.001] alpha [1]  max_iterations [10]    ==> Accuracy: 0.5217391304347826 \n",
            "=> learning_rate [constant] Penalty [l1] eta0 [0.001] alpha [1]  max_iterations [100]    ==> Accuracy: 0.5217391304347826 \n",
            "=> learning_rate [constant] Penalty [l1] eta0 [0.001] alpha [10]  max_iterations [10]    ==> Accuracy: 0.5217391304347826 \n",
            "=> learning_rate [constant] Penalty [l1] eta0 [0.001] alpha [10]  max_iterations [100]    ==> Accuracy: 0.5217391304347826 \n",
            "=> learning_rate [constant] Penalty [l1] eta0 [0.01] alpha [1e-05]  max_iterations [10]    ==> Accuracy: 0.8260869565217391 \n",
            "=> learning_rate [constant] Penalty [l1] eta0 [0.01] alpha [1e-05]  max_iterations [100]    ==> Accuracy: 0.8152173913043478 \n",
            "=> learning_rate [constant] Penalty [l1] eta0 [0.01] alpha [0.0001]  max_iterations [10]    ==> Accuracy: 0.8260869565217391 \n",
            "=> learning_rate [constant] Penalty [l1] eta0 [0.01] alpha [0.0001]  max_iterations [100]    ==> Accuracy: 0.8369565217391305 \n",
            "=> learning_rate [constant] Penalty [l1] eta0 [0.01] alpha [0.001]  max_iterations [10]    ==> Accuracy: 0.8586956521739131 \n",
            "=> learning_rate [constant] Penalty [l1] eta0 [0.01] alpha [0.001]  max_iterations [100]    ==> Accuracy: 0.8260869565217391 \n",
            "=> learning_rate [constant] Penalty [l1] eta0 [0.01] alpha [0.01]  max_iterations [10]    ==> Accuracy: 0.8369565217391305 \n",
            "=> learning_rate [constant] Penalty [l1] eta0 [0.01] alpha [0.01]  max_iterations [100]    ==> Accuracy: 0.8260869565217391 \n",
            "=> learning_rate [constant] Penalty [l1] eta0 [0.01] alpha [0.1]  max_iterations [10]    ==> Accuracy: 0.7391304347826086 \n",
            "=> learning_rate [constant] Penalty [l1] eta0 [0.01] alpha [0.1]  max_iterations [100]    ==> Accuracy: 0.7391304347826086 \n",
            "=> learning_rate [constant] Penalty [l1] eta0 [0.01] alpha [1]  max_iterations [10]    ==> Accuracy: 0.5217391304347826 \n",
            "=> learning_rate [constant] Penalty [l1] eta0 [0.01] alpha [1]  max_iterations [100]    ==> Accuracy: 0.5217391304347826 \n",
            "=> learning_rate [constant] Penalty [l1] eta0 [0.01] alpha [10]  max_iterations [10]    ==> Accuracy: 0.5217391304347826 \n",
            "=> learning_rate [constant] Penalty [l1] eta0 [0.01] alpha [10]  max_iterations [100]    ==> Accuracy: 0.5217391304347826 \n",
            "=> learning_rate [constant] Penalty [l1] eta0 [0.1] alpha [1e-05]  max_iterations [10]    ==> Accuracy: 0.8043478260869565 \n",
            "=> learning_rate [constant] Penalty [l1] eta0 [0.1] alpha [1e-05]  max_iterations [100]    ==> Accuracy: 0.7934782608695652 \n",
            "=> learning_rate [constant] Penalty [l1] eta0 [0.1] alpha [0.0001]  max_iterations [10]    ==> Accuracy: 0.8260869565217391 \n",
            "=> learning_rate [constant] Penalty [l1] eta0 [0.1] alpha [0.0001]  max_iterations [100]    ==> Accuracy: 0.8043478260869565 \n",
            "=> learning_rate [constant] Penalty [l1] eta0 [0.1] alpha [0.001]  max_iterations [10]    ==> Accuracy: 0.8478260869565217 \n",
            "=> learning_rate [constant] Penalty [l1] eta0 [0.1] alpha [0.001]  max_iterations [100]    ==> Accuracy: 0.8369565217391305 \n",
            "=> learning_rate [constant] Penalty [l1] eta0 [0.1] alpha [0.01]  max_iterations [10]    ==> Accuracy: 0.8260869565217391 \n",
            "=> learning_rate [constant] Penalty [l1] eta0 [0.1] alpha [0.01]  max_iterations [100]    ==> Accuracy: 0.8043478260869565 \n",
            "=> learning_rate [constant] Penalty [l1] eta0 [0.1] alpha [0.1]  max_iterations [10]    ==> Accuracy: 0.7391304347826086 \n",
            "=> learning_rate [constant] Penalty [l1] eta0 [0.1] alpha [0.1]  max_iterations [100]    ==> Accuracy: 0.7391304347826086 \n",
            "=> learning_rate [constant] Penalty [l1] eta0 [0.1] alpha [1]  max_iterations [10]    ==> Accuracy: 0.5217391304347826 \n",
            "=> learning_rate [constant] Penalty [l1] eta0 [0.1] alpha [1]  max_iterations [100]    ==> Accuracy: 0.5217391304347826 \n",
            "=> learning_rate [constant] Penalty [l1] eta0 [0.1] alpha [10]  max_iterations [10]    ==> Accuracy: 0.5217391304347826 \n",
            "=> learning_rate [constant] Penalty [l1] eta0 [0.1] alpha [10]  max_iterations [100]    ==> Accuracy: 0.5217391304347826 \n",
            "=> learning_rate [constant] Penalty [l1] eta0 [1] alpha [1e-05]  max_iterations [10]    ==> Accuracy: 0.7608695652173914 \n",
            "=> learning_rate [constant] Penalty [l1] eta0 [1] alpha [1e-05]  max_iterations [100]    ==> Accuracy: 0.8152173913043478 \n",
            "=> learning_rate [constant] Penalty [l1] eta0 [1] alpha [0.0001]  max_iterations [10]    ==> Accuracy: 0.782608695652174 \n",
            "=> learning_rate [constant] Penalty [l1] eta0 [1] alpha [0.0001]  max_iterations [100]    ==> Accuracy: 0.8043478260869565 \n",
            "=> learning_rate [constant] Penalty [l1] eta0 [1] alpha [0.001]  max_iterations [10]    ==> Accuracy: 0.8152173913043478 \n",
            "=> learning_rate [constant] Penalty [l1] eta0 [1] alpha [0.001]  max_iterations [100]    ==> Accuracy: 0.8369565217391305 \n",
            "=> learning_rate [constant] Penalty [l1] eta0 [1] alpha [0.01]  max_iterations [10]    ==> Accuracy: 0.7717391304347826 \n",
            "=> learning_rate [constant] Penalty [l1] eta0 [1] alpha [0.01]  max_iterations [100]    ==> Accuracy: 0.8369565217391305 \n",
            "=> learning_rate [constant] Penalty [l1] eta0 [1] alpha [0.1]  max_iterations [10]    ==> Accuracy: 0.7391304347826086 \n",
            "=> learning_rate [constant] Penalty [l1] eta0 [1] alpha [0.1]  max_iterations [100]    ==> Accuracy: 0.5217391304347826 \n",
            "=> learning_rate [constant] Penalty [l1] eta0 [1] alpha [1]  max_iterations [10]    ==> Accuracy: 0.5217391304347826 \n",
            "=> learning_rate [constant] Penalty [l1] eta0 [1] alpha [1]  max_iterations [100]    ==> Accuracy: 0.5217391304347826 \n",
            "=> learning_rate [constant] Penalty [l1] eta0 [1] alpha [10]  max_iterations [10]    ==> Accuracy: 0.5217391304347826 \n",
            "=> learning_rate [constant] Penalty [l1] eta0 [1] alpha [10]  max_iterations [100]    ==> Accuracy: 0.4782608695652174 \n",
            "=> learning_rate [constant] Penalty [l1] eta0 [10] alpha [1e-05]  max_iterations [10]    ==> Accuracy: 0.7391304347826086 \n",
            "=> learning_rate [constant] Penalty [l1] eta0 [10] alpha [1e-05]  max_iterations [100]    ==> Accuracy: 0.7717391304347826 \n",
            "=> learning_rate [constant] Penalty [l1] eta0 [10] alpha [0.0001]  max_iterations [10]    ==> Accuracy: 0.782608695652174 \n",
            "=> learning_rate [constant] Penalty [l1] eta0 [10] alpha [0.0001]  max_iterations [100]    ==> Accuracy: 0.8043478260869565 \n",
            "=> learning_rate [constant] Penalty [l1] eta0 [10] alpha [0.001]  max_iterations [10]    ==> Accuracy: 0.8478260869565217 \n",
            "=> learning_rate [constant] Penalty [l1] eta0 [10] alpha [0.001]  max_iterations [100]    ==> Accuracy: 0.8152173913043478 \n",
            "=> learning_rate [constant] Penalty [l1] eta0 [10] alpha [0.01]  max_iterations [10]    ==> Accuracy: 0.7391304347826086 \n",
            "=> learning_rate [constant] Penalty [l1] eta0 [10] alpha [0.01]  max_iterations [100]    ==> Accuracy: 0.8043478260869565 \n",
            "=> learning_rate [constant] Penalty [l1] eta0 [10] alpha [0.1]  max_iterations [10]    ==> Accuracy: 0.5217391304347826 \n",
            "=> learning_rate [constant] Penalty [l1] eta0 [10] alpha [0.1]  max_iterations [100]    ==> Accuracy: 0.5217391304347826 \n",
            "=> learning_rate [constant] Penalty [l1] eta0 [10] alpha [1]  max_iterations [10]    ==> Accuracy: 0.5217391304347826 \n",
            "=> learning_rate [constant] Penalty [l1] eta0 [10] alpha [1]  max_iterations [100]    ==> Accuracy: 0.5217391304347826 \n",
            "=> learning_rate [constant] Penalty [l1] eta0 [10] alpha [10]  max_iterations [10]    ==> Accuracy: 0.5217391304347826 \n",
            "=> learning_rate [constant] Penalty [l1] eta0 [10] alpha [10]  max_iterations [100]    ==> Accuracy: 0.4782608695652174 \n",
            "=> learning_rate [optimal] Penalty [None] eta0 [XX] alpha [1e-05]  max_iterations [10]    ==> Accuracy: 0.7717391304347826 \n",
            "=> learning_rate [optimal] Penalty [None] eta0 [XX] alpha [1e-05]  max_iterations [100]    ==> Accuracy: 0.7934782608695652 \n",
            "=> learning_rate [optimal] Penalty [None] eta0 [XX] alpha [0.0001]  max_iterations [10]    ==> Accuracy: 0.7608695652173914 \n",
            "=> learning_rate [optimal] Penalty [None] eta0 [XX] alpha [0.0001]  max_iterations [100]    ==> Accuracy: 0.7391304347826086 \n",
            "=> learning_rate [optimal] Penalty [None] eta0 [XX] alpha [0.001]  max_iterations [10]    ==> Accuracy: 0.782608695652174 \n",
            "=> learning_rate [optimal] Penalty [None] eta0 [XX] alpha [0.001]  max_iterations [100]    ==> Accuracy: 0.782608695652174 \n",
            "=> learning_rate [optimal] Penalty [None] eta0 [XX] alpha [0.01]  max_iterations [10]    ==> Accuracy: 0.7934782608695652 \n",
            "=> learning_rate [optimal] Penalty [None] eta0 [XX] alpha [0.01]  max_iterations [100]    ==> Accuracy: 0.8369565217391305 \n",
            "=> learning_rate [optimal] Penalty [None] eta0 [XX] alpha [0.1]  max_iterations [10]    ==> Accuracy: 0.8152173913043478 \n",
            "=> learning_rate [optimal] Penalty [None] eta0 [XX] alpha [0.1]  max_iterations [100]    ==> Accuracy: 0.8586956521739131 \n",
            "=> learning_rate [optimal] Penalty [None] eta0 [XX] alpha [1]  max_iterations [10]    ==> Accuracy: 0.8804347826086957 \n",
            "=> learning_rate [optimal] Penalty [None] eta0 [XX] alpha [1]  max_iterations [100]    ==> Accuracy: 0.8586956521739131 \n",
            "=> learning_rate [optimal] Penalty [None] eta0 [XX] alpha [10]  max_iterations [10]    ==> Accuracy: 0.6413043478260869 \n",
            "=> learning_rate [optimal] Penalty [None] eta0 [XX] alpha [10]  max_iterations [100]    ==> Accuracy: 0.8478260869565217 \n",
            "=> learning_rate [optimal] Penalty [l1] eta0 [XX] alpha [1e-05]  max_iterations [10]    ==> Accuracy: 0.782608695652174 \n",
            "=> learning_rate [optimal] Penalty [l1] eta0 [XX] alpha [1e-05]  max_iterations [100]    ==> Accuracy: 0.7717391304347826 \n",
            "=> learning_rate [optimal] Penalty [l1] eta0 [XX] alpha [0.0001]  max_iterations [10]    ==> Accuracy: 0.782608695652174 \n",
            "=> learning_rate [optimal] Penalty [l1] eta0 [XX] alpha [0.0001]  max_iterations [100]    ==> Accuracy: 0.8043478260869565 \n",
            "=> learning_rate [optimal] Penalty [l1] eta0 [XX] alpha [0.001]  max_iterations [10]    ==> Accuracy: 0.8260869565217391 \n",
            "=> learning_rate [optimal] Penalty [l1] eta0 [XX] alpha [0.001]  max_iterations [100]    ==> Accuracy: 0.8152173913043478 \n",
            "=> learning_rate [optimal] Penalty [l1] eta0 [XX] alpha [0.01]  max_iterations [10]    ==> Accuracy: 0.8152173913043478 \n",
            "=> learning_rate [optimal] Penalty [l1] eta0 [XX] alpha [0.01]  max_iterations [100]    ==> Accuracy: 0.8152173913043478 \n",
            "=> learning_rate [optimal] Penalty [l1] eta0 [XX] alpha [0.1]  max_iterations [10]    ==> Accuracy: 0.7391304347826086 \n",
            "=> learning_rate [optimal] Penalty [l1] eta0 [XX] alpha [0.1]  max_iterations [100]    ==> Accuracy: 0.7391304347826086 \n",
            "=> learning_rate [optimal] Penalty [l1] eta0 [XX] alpha [1]  max_iterations [10]    ==> Accuracy: 0.5217391304347826 \n",
            "=> learning_rate [optimal] Penalty [l1] eta0 [XX] alpha [1]  max_iterations [100]    ==> Accuracy: 0.5217391304347826 \n",
            "=> learning_rate [optimal] Penalty [l1] eta0 [XX] alpha [10]  max_iterations [10]    ==> Accuracy: 0.4782608695652174 \n",
            "=> learning_rate [optimal] Penalty [l1] eta0 [XX] alpha [10]  max_iterations [100]    ==> Accuracy: 0.4782608695652174 \n",
            "Numero de entrenamientos: 108\n"
          ]
        }
      ]
    },
    {
      "cell_type": "markdown",
      "source": [
        "**Manejando los resultados de los modelos entrenados**\n",
        "\n",
        "Establecer un umbral de precisión del 0,75"
      ],
      "metadata": {
        "id": "-Qv4gIgAQFzJ"
      }
    },
    {
      "cell_type": "code",
      "source": [
        "results_df = pd.DataFrame(results,columns=['learning rate','penalty','eta0','alpha','max iterations','accuracy'])\n",
        "threshold = 0.75\n",
        "results_top = results_df[results_df['accuracy'] > threshold].sort_values(by='accuracy',ascending=False)\n",
        "results_top.head(10)"
      ],
      "metadata": {
        "colab": {
          "base_uri": "https://localhost:8080/",
          "height": 363
        },
        "id": "ZUAy0B7mK9Ri",
        "outputId": "818e46e2-e94d-41ac-fef9-e540144a2e06"
      },
      "execution_count": 94,
      "outputs": [
        {
          "output_type": "execute_result",
          "data": {
            "text/plain": [
              "   learning rate penalty   eta0  alpha  max iterations  accuracy\n",
              "90       optimal    None     XX      1              10  0.880435\n",
              "17      constant      l1  0.001   0.01             100  0.869565\n",
              "28      constant      l1   0.01  0.001              10  0.858696\n",
              "89       optimal    None     XX    0.1             100  0.858696\n",
              "16      constant      l1  0.001   0.01              10  0.858696\n",
              "91       optimal    None     XX      1             100  0.858696\n",
              "14      constant      l1  0.001  0.001              10  0.858696\n",
              "0       constant    None  0.001     XX              10  0.847826\n",
              "42      constant      l1    0.1  0.001              10  0.847826\n",
              "15      constant      l1  0.001  0.001             100  0.847826"
            ],
            "text/html": [
              "\n",
              "  <div id=\"df-65cfa177-0727-4721-b1c3-7696233fecd7\">\n",
              "    <div class=\"colab-df-container\">\n",
              "      <div>\n",
              "<style scoped>\n",
              "    .dataframe tbody tr th:only-of-type {\n",
              "        vertical-align: middle;\n",
              "    }\n",
              "\n",
              "    .dataframe tbody tr th {\n",
              "        vertical-align: top;\n",
              "    }\n",
              "\n",
              "    .dataframe thead th {\n",
              "        text-align: right;\n",
              "    }\n",
              "</style>\n",
              "<table border=\"1\" class=\"dataframe\">\n",
              "  <thead>\n",
              "    <tr style=\"text-align: right;\">\n",
              "      <th></th>\n",
              "      <th>learning rate</th>\n",
              "      <th>penalty</th>\n",
              "      <th>eta0</th>\n",
              "      <th>alpha</th>\n",
              "      <th>max iterations</th>\n",
              "      <th>accuracy</th>\n",
              "    </tr>\n",
              "  </thead>\n",
              "  <tbody>\n",
              "    <tr>\n",
              "      <th>90</th>\n",
              "      <td>optimal</td>\n",
              "      <td>None</td>\n",
              "      <td>XX</td>\n",
              "      <td>1</td>\n",
              "      <td>10</td>\n",
              "      <td>0.880435</td>\n",
              "    </tr>\n",
              "    <tr>\n",
              "      <th>17</th>\n",
              "      <td>constant</td>\n",
              "      <td>l1</td>\n",
              "      <td>0.001</td>\n",
              "      <td>0.01</td>\n",
              "      <td>100</td>\n",
              "      <td>0.869565</td>\n",
              "    </tr>\n",
              "    <tr>\n",
              "      <th>28</th>\n",
              "      <td>constant</td>\n",
              "      <td>l1</td>\n",
              "      <td>0.01</td>\n",
              "      <td>0.001</td>\n",
              "      <td>10</td>\n",
              "      <td>0.858696</td>\n",
              "    </tr>\n",
              "    <tr>\n",
              "      <th>89</th>\n",
              "      <td>optimal</td>\n",
              "      <td>None</td>\n",
              "      <td>XX</td>\n",
              "      <td>0.1</td>\n",
              "      <td>100</td>\n",
              "      <td>0.858696</td>\n",
              "    </tr>\n",
              "    <tr>\n",
              "      <th>16</th>\n",
              "      <td>constant</td>\n",
              "      <td>l1</td>\n",
              "      <td>0.001</td>\n",
              "      <td>0.01</td>\n",
              "      <td>10</td>\n",
              "      <td>0.858696</td>\n",
              "    </tr>\n",
              "    <tr>\n",
              "      <th>91</th>\n",
              "      <td>optimal</td>\n",
              "      <td>None</td>\n",
              "      <td>XX</td>\n",
              "      <td>1</td>\n",
              "      <td>100</td>\n",
              "      <td>0.858696</td>\n",
              "    </tr>\n",
              "    <tr>\n",
              "      <th>14</th>\n",
              "      <td>constant</td>\n",
              "      <td>l1</td>\n",
              "      <td>0.001</td>\n",
              "      <td>0.001</td>\n",
              "      <td>10</td>\n",
              "      <td>0.858696</td>\n",
              "    </tr>\n",
              "    <tr>\n",
              "      <th>0</th>\n",
              "      <td>constant</td>\n",
              "      <td>None</td>\n",
              "      <td>0.001</td>\n",
              "      <td>XX</td>\n",
              "      <td>10</td>\n",
              "      <td>0.847826</td>\n",
              "    </tr>\n",
              "    <tr>\n",
              "      <th>42</th>\n",
              "      <td>constant</td>\n",
              "      <td>l1</td>\n",
              "      <td>0.1</td>\n",
              "      <td>0.001</td>\n",
              "      <td>10</td>\n",
              "      <td>0.847826</td>\n",
              "    </tr>\n",
              "    <tr>\n",
              "      <th>15</th>\n",
              "      <td>constant</td>\n",
              "      <td>l1</td>\n",
              "      <td>0.001</td>\n",
              "      <td>0.001</td>\n",
              "      <td>100</td>\n",
              "      <td>0.847826</td>\n",
              "    </tr>\n",
              "  </tbody>\n",
              "</table>\n",
              "</div>\n",
              "      <button class=\"colab-df-convert\" onclick=\"convertToInteractive('df-65cfa177-0727-4721-b1c3-7696233fecd7')\"\n",
              "              title=\"Convert this dataframe to an interactive table.\"\n",
              "              style=\"display:none;\">\n",
              "        \n",
              "  <svg xmlns=\"http://www.w3.org/2000/svg\" height=\"24px\"viewBox=\"0 0 24 24\"\n",
              "       width=\"24px\">\n",
              "    <path d=\"M0 0h24v24H0V0z\" fill=\"none\"/>\n",
              "    <path d=\"M18.56 5.44l.94 2.06.94-2.06 2.06-.94-2.06-.94-.94-2.06-.94 2.06-2.06.94zm-11 1L8.5 8.5l.94-2.06 2.06-.94-2.06-.94L8.5 2.5l-.94 2.06-2.06.94zm10 10l.94 2.06.94-2.06 2.06-.94-2.06-.94-.94-2.06-.94 2.06-2.06.94z\"/><path d=\"M17.41 7.96l-1.37-1.37c-.4-.4-.92-.59-1.43-.59-.52 0-1.04.2-1.43.59L10.3 9.45l-7.72 7.72c-.78.78-.78 2.05 0 2.83L4 21.41c.39.39.9.59 1.41.59.51 0 1.02-.2 1.41-.59l7.78-7.78 2.81-2.81c.8-.78.8-2.07 0-2.86zM5.41 20L4 18.59l7.72-7.72 1.47 1.35L5.41 20z\"/>\n",
              "  </svg>\n",
              "      </button>\n",
              "      \n",
              "  <style>\n",
              "    .colab-df-container {\n",
              "      display:flex;\n",
              "      flex-wrap:wrap;\n",
              "      gap: 12px;\n",
              "    }\n",
              "\n",
              "    .colab-df-convert {\n",
              "      background-color: #E8F0FE;\n",
              "      border: none;\n",
              "      border-radius: 50%;\n",
              "      cursor: pointer;\n",
              "      display: none;\n",
              "      fill: #1967D2;\n",
              "      height: 32px;\n",
              "      padding: 0 0 0 0;\n",
              "      width: 32px;\n",
              "    }\n",
              "\n",
              "    .colab-df-convert:hover {\n",
              "      background-color: #E2EBFA;\n",
              "      box-shadow: 0px 1px 2px rgba(60, 64, 67, 0.3), 0px 1px 3px 1px rgba(60, 64, 67, 0.15);\n",
              "      fill: #174EA6;\n",
              "    }\n",
              "\n",
              "    [theme=dark] .colab-df-convert {\n",
              "      background-color: #3B4455;\n",
              "      fill: #D2E3FC;\n",
              "    }\n",
              "\n",
              "    [theme=dark] .colab-df-convert:hover {\n",
              "      background-color: #434B5C;\n",
              "      box-shadow: 0px 1px 3px 1px rgba(0, 0, 0, 0.15);\n",
              "      filter: drop-shadow(0px 1px 2px rgba(0, 0, 0, 0.3));\n",
              "      fill: #FFFFFF;\n",
              "    }\n",
              "  </style>\n",
              "\n",
              "      <script>\n",
              "        const buttonEl =\n",
              "          document.querySelector('#df-65cfa177-0727-4721-b1c3-7696233fecd7 button.colab-df-convert');\n",
              "        buttonEl.style.display =\n",
              "          google.colab.kernel.accessAllowed ? 'block' : 'none';\n",
              "\n",
              "        async function convertToInteractive(key) {\n",
              "          const element = document.querySelector('#df-65cfa177-0727-4721-b1c3-7696233fecd7');\n",
              "          const dataTable =\n",
              "            await google.colab.kernel.invokeFunction('convertToInteractive',\n",
              "                                                     [key], {});\n",
              "          if (!dataTable) return;\n",
              "\n",
              "          const docLinkHtml = 'Like what you see? Visit the ' +\n",
              "            '<a target=\"_blank\" href=https://colab.research.google.com/notebooks/data_table.ipynb>data table notebook</a>'\n",
              "            + ' to learn more about interactive tables.';\n",
              "          element.innerHTML = '';\n",
              "          dataTable['output_type'] = 'display_data';\n",
              "          await google.colab.output.renderOutput(dataTable, element);\n",
              "          const docLink = document.createElement('div');\n",
              "          docLink.innerHTML = docLinkHtml;\n",
              "          element.appendChild(docLink);\n",
              "        }\n",
              "      </script>\n",
              "    </div>\n",
              "  </div>\n",
              "  "
            ]
          },
          "metadata": {},
          "execution_count": 94
        }
      ]
    },
    {
      "cell_type": "code",
      "source": [
        "learning_rate, penalty, eta, alpha, iteration, accuracy = results_top.iloc[0]\n",
        "\n",
        "params = {'learning_rate':learning_rate, 'penalty':penalty, 'max_iter':iteration}\n",
        "\n",
        "if eta is not 'XX':\n",
        "  params['eta0']=eta\n",
        "\n",
        "if alpha is not 'XX':\n",
        "  params['alpha']=alpha\n",
        "\n",
        "params"
      ],
      "metadata": {
        "colab": {
          "base_uri": "https://localhost:8080/"
        },
        "id": "qEwlcg_ErCdJ",
        "outputId": "00a3b782-ccd3-4afc-b116-44851ff486db"
      },
      "execution_count": 95,
      "outputs": [
        {
          "output_type": "execute_result",
          "data": {
            "text/plain": [
              "{'learning_rate': 'optimal', 'penalty': None, 'max_iter': 10, 'alpha': 1}"
            ]
          },
          "metadata": {},
          "execution_count": 95
        }
      ]
    },
    {
      "cell_type": "markdown",
      "source": [
        "**ANÁLISIS CON EL MEJOR DE LOS CASOS**"
      ],
      "metadata": {
        "id": "VwuV6HueQtgo"
      }
    },
    {
      "cell_type": "code",
      "source": [
        "from sklearn.metrics import accuracy_score\n",
        "from sklearn.metrics import roc_auc_score\n",
        "from sklearn.model_selection import cross_val_score\n",
        "from sklearn.model_selection import RepeatedStratifiedKFold\n",
        "from sklearn.metrics import RocCurveDisplay\n",
        "\n",
        "print(params)\n",
        "log_classifier = SGDClassifier(loss=funcion_coste,  fit_intercept=True, **params)\n",
        "log_classifier.fit(X_train_enc.toarray(), Y_train)\n",
        "# Generate prediction\n",
        "prediction = log_classifier.predict(X_test_enc)\n",
        "# Calculate accuracy\n",
        "accuracy = accuracy_score(Y_test,prediction)\n",
        "\n",
        "cv = RepeatedStratifiedKFold(n_splits = 10, n_repeats = 3, random_state = 1)\n",
        "\n",
        "print(\"Precisión (Acurracy) : \",'{0:.2%}'.format(accuracy_score(Y_test,prediction)))\n",
        "print(\"Puntuación de validación cruzada(Cross Validation Score) con Train : \",'{0:.2%}'.format(cross_val_score(log_classifier,X_train_enc,Y_train, cv = cv ,scoring = 'roc_auc').mean()))\n",
        "print(\"Puntuación de validación cruzada(Cross Validation Score) con Val : \",'{0:.2%}'.format(cross_val_score(log_classifier,X_val_enc,Y_val, cv = cv ,scoring = 'roc_auc').mean()))\n",
        "print(\"Puntuación ROC_AUC : \",'{0:.2%}'.format(roc_auc_score(Y_test,prediction)))\n",
        "\n",
        "RocCurveDisplay.from_estimator(log_classifier, X_test_enc,Y_test)\n",
        "plt.title('ROC_AUC')\n",
        "plt.show()\n"
      ],
      "metadata": {
        "colab": {
          "base_uri": "https://localhost:8080/",
          "height": 560
        },
        "id": "-sp3pApdkpLI",
        "outputId": "cafc2152-0ad3-4508-ce0c-6132e3ebb7eb"
      },
      "execution_count": 96,
      "outputs": [
        {
          "output_type": "stream",
          "name": "stdout",
          "text": [
            "{'learning_rate': 'optimal', 'penalty': None, 'max_iter': 10, 'alpha': 1}\n",
            "Precisión (Acurracy) :  86.96%\n",
            "Puntuación de validación cruzada(Cross Validation Score) con Train :  90.83%\n",
            "Puntuación de validación cruzada(Cross Validation Score) con Val :  95.96%\n",
            "Puntuación ROC_AUC :  86.93%\n"
          ]
        },
        {
          "output_type": "display_data",
          "data": {
            "text/plain": [
              "<Figure size 640x480 with 1 Axes>"
            ],
            "image/png": "[encoded data removed]"
          },
          "metadata": {}
        }
      ]
    },
    {
      "cell_type": "code",
      "source": [
        "from sklearn.metrics import confusion_matrix\n",
        "from sklearn.metrics import classification_report\n",
        "\n",
        "colores = ['#55A4DB','#FFBF24']\n",
        "# Matriz de confusión\n",
        "\n",
        "cm = confusion_matrix(Y_test,log_classifier.predict(X_test_enc))\n",
        "nombres = ['Verdadero Negativo','Falso Positivo','Falso Negativo','Verdadero Positivo']\n",
        "counts = [value for value in cm.flatten()]\n",
        "porcentajes = ['{0:.2%}'.format(value) for value in cm.flatten()/np.sum(cm)]\n",
        "etiquetas = [f'{v1}\\n{v2}\\n{v3}' for v1, v2, v3 in zip(nombres,counts,porcentajes)]\n",
        "etiquetas = np.asarray(etiquetas).reshape(2,2)\n",
        "sns.heatmap(cm,annot = etiquetas,cmap = colores,fmt ='')\n",
        "\n",
        "# Informe con clasificaciones\n",
        "print(classification_report(Y_test,log_classifier.predict(X_test_enc)))"
      ],
      "metadata": {
        "colab": {
          "base_uri": "https://localhost:8080/",
          "height": 591
        },
        "id": "9fVRIWm3mmuk",
        "outputId": "c18b9829-4493-410c-8f8c-2dd0f2ba5967"
      },
      "execution_count": 97,
      "outputs": [
        {
          "output_type": "stream",
          "name": "stdout",
          "text": [
            "              precision    recall  f1-score   support\n",
            "\n",
            "           0       0.86      0.86      0.86        44\n",
            "           1       0.88      0.88      0.88        48\n",
            "\n",
            "    accuracy                           0.87        92\n",
            "   macro avg       0.87      0.87      0.87        92\n",
            "weighted avg       0.87      0.87      0.87        92\n",
            "\n"
          ]
        },
        {
          "output_type": "display_data",
          "data": {
            "text/plain": [
              "<Figure size 640x480 with 2 Axes>"
            ],
            "image/png": "[encoded data removed]"
          },
          "metadata": {}
        }
      ]
    }
  ]
}