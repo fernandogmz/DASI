{
  "nbformat": 4,
  "nbformat_minor": 0,
  "metadata": {
    "colab": {
      "provenance": []
    },
    "kernelspec": {
      "name": "python3",
      "display_name": "Python 3"
    },
    "language_info": {
      "name": "python"
    }
  },
  "cells": [
    {
      "cell_type": "markdown",
      "source": [
        "\n",
        "Integrantes:\n",
        "\n",
        "David Bugoi\n",
        "\n",
        "Fernando Javier Gómez Márquez\n",
        "\n",
        "Daniel Hernández Martínez"
      ],
      "metadata": {
        "id": "p7FN3DDEUR1t"
      }
    },
    {
      "cell_type": "markdown",
      "source": [
        "Carga de datos\n",
        "\n",
        "Dataset: https://www.kaggle.com/datasets/fedesoriano/heart-failure-prediction"
      ],
      "metadata": {
        "id": "Cbedby8vUUxk"
      }
    },
    {
      "cell_type": "code",
      "source": [
        "import pandas as pd\n",
        "import numpy as np\n",
        "import seaborn as sns\n",
        "import plotly.express as px\n",
        "from sklearn.preprocessing import OneHotEncoder\n",
        "from sklearn.model_selection import train_test_split\n",
        "from sklearn import preprocessing\n",
        "from sklearn.tree import DecisionTreeClassifier, plot_tree\n",
        "import matplotlib.pyplot as plt\n",
        "import os.path"
      ],
      "metadata": {
        "id": "UHK_t6pdUS_c"
      },
      "execution_count": null,
      "outputs": []
    },
    {
      "cell_type": "code",
      "source": [
        "def genera_df(ficherocsv, nro_filas=None):\n",
        "    try:\n",
        "      from google.colab import drive\n",
        "      drive.mount('/content/drive')\n",
        "      df = pd.read_csv(os.path.join('drive/MyDrive/Colab Notebooks/',ficherocsv), nrows=nro_filas)\n",
        "    except:   # si no es en google colab, se supone que estamos ejecutando el notebook en nuestro servidor local y que el fichero está en el mismo directorio\n",
        "      df = pd.read_csv(ficherocsv, nrows=nro_filas)\n",
        "    return df"
      ],
      "metadata": {
        "id": "SoWVpJ5hUkzc"
      },
      "execution_count": null,
      "outputs": []
    },
    {
      "cell_type": "code",
      "source": [
        "fdatos = 'heart.csv'\n",
        "\n",
        "df = genera_df(fdatos)\n",
        "df"
      ],
      "metadata": {
        "colab": {
          "base_uri": "https://localhost:8080/",
          "height": 441
        },
        "id": "mhUWmVzvUmV0",
        "outputId": "4a321ee7-f2f8-446b-841e-ee786af260cf"
      },
      "execution_count": null,
      "outputs": [
        {
          "output_type": "stream",
          "name": "stdout",
          "text": [
            "Drive already mounted at /content/drive; to attempt to forcibly remount, call drive.mount(\"/content/drive\", force_remount=True).\n"
          ]
        },
        {
          "output_type": "execute_result",
          "data": {
            "text/plain": [
              "     Age Sex ChestPainType  RestingBP  Cholesterol  FastingBS RestingECG  \\\n",
              "0     40   M           ATA        140          289          0     Normal   \n",
              "1     49   F           NAP        160          180          0     Normal   \n",
              "2     37   M           ATA        130          283          0         ST   \n",
              "3     48   F           ASY        138          214          0     Normal   \n",
              "4     54   M           NAP        150          195          0     Normal   \n",
              "..   ...  ..           ...        ...          ...        ...        ...   \n",
              "913   45   M            TA        110          264          0     Normal   \n",
              "914   68   M           ASY        144          193          1     Normal   \n",
              "915   57   M           ASY        130          131          0     Normal   \n",
              "916   57   F           ATA        130          236          0        LVH   \n",
              "917   38   M           NAP        138          175          0     Normal   \n",
              "\n",
              "     MaxHR ExerciseAngina  Oldpeak ST_Slope  HeartDisease  \n",
              "0      172              N      0.0       Up             0  \n",
              "1      156              N      1.0     Flat             1  \n",
              "2       98              N      0.0       Up             0  \n",
              "3      108              Y      1.5     Flat             1  \n",
              "4      122              N      0.0       Up             0  \n",
              "..     ...            ...      ...      ...           ...  \n",
              "913    132              N      1.2     Flat             1  \n",
              "914    141              N      3.4     Flat             1  \n",
              "915    115              Y      1.2     Flat             1  \n",
              "916    174              N      0.0     Flat             1  \n",
              "917    173              N      0.0       Up             0  \n",
              "\n",
              "[918 rows x 12 columns]"
            ],
            "text/html": [
              "\n",
              "  <div id=\"df-639100c3-dd37-4ff2-b4ef-e55075924fea\">\n",
              "    <div class=\"colab-df-container\">\n",
              "      <div>\n",
              "<style scoped>\n",
              "    .dataframe tbody tr th:only-of-type {\n",
              "        vertical-align: middle;\n",
              "    }\n",
              "\n",
              "    .dataframe tbody tr th {\n",
              "        vertical-align: top;\n",
              "    }\n",
              "\n",
              "    .dataframe thead th {\n",
              "        text-align: right;\n",
              "    }\n",
              "</style>\n",
              "<table border=\"1\" class=\"dataframe\">\n",
              "  <thead>\n",
              "    <tr style=\"text-align: right;\">\n",
              "      <th></th>\n",
              "      <th>Age</th>\n",
              "      <th>Sex</th>\n",
              "      <th>ChestPainType</th>\n",
              "      <th>RestingBP</th>\n",
              "      <th>Cholesterol</th>\n",
              "      <th>FastingBS</th>\n",
              "      <th>RestingECG</th>\n",
              "      <th>MaxHR</th>\n",
              "      <th>ExerciseAngina</th>\n",
              "      <th>Oldpeak</th>\n",
              "      <th>ST_Slope</th>\n",
              "      <th>HeartDisease</th>\n",
              "    </tr>\n",
              "  </thead>\n",
              "  <tbody>\n",
              "    <tr>\n",
              "      <th>0</th>\n",
              "      <td>40</td>\n",
              "      <td>M</td>\n",
              "      <td>ATA</td>\n",
              "      <td>140</td>\n",
              "      <td>289</td>\n",
              "      <td>0</td>\n",
              "      <td>Normal</td>\n",
              "      <td>172</td>\n",
              "      <td>N</td>\n",
              "      <td>0.0</td>\n",
              "      <td>Up</td>\n",
              "      <td>0</td>\n",
              "    </tr>\n",
              "    <tr>\n",
              "      <th>1</th>\n",
              "      <td>49</td>\n",
              "      <td>F</td>\n",
              "      <td>NAP</td>\n",
              "      <td>160</td>\n",
              "      <td>180</td>\n",
              "      <td>0</td>\n",
              "      <td>Normal</td>\n",
              "      <td>156</td>\n",
              "      <td>N</td>\n",
              "      <td>1.0</td>\n",
              "      <td>Flat</td>\n",
              "      <td>1</td>\n",
              "    </tr>\n",
              "    <tr>\n",
              "      <th>2</th>\n",
              "      <td>37</td>\n",
              "      <td>M</td>\n",
              "      <td>ATA</td>\n",
              "      <td>130</td>\n",
              "      <td>283</td>\n",
              "      <td>0</td>\n",
              "      <td>ST</td>\n",
              "      <td>98</td>\n",
              "      <td>N</td>\n",
              "      <td>0.0</td>\n",
              "      <td>Up</td>\n",
              "      <td>0</td>\n",
              "    </tr>\n",
              "    <tr>\n",
              "      <th>3</th>\n",
              "      <td>48</td>\n",
              "      <td>F</td>\n",
              "      <td>ASY</td>\n",
              "      <td>138</td>\n",
              "      <td>214</td>\n",
              "      <td>0</td>\n",
              "      <td>Normal</td>\n",
              "      <td>108</td>\n",
              "      <td>Y</td>\n",
              "      <td>1.5</td>\n",
              "      <td>Flat</td>\n",
              "      <td>1</td>\n",
              "    </tr>\n",
              "    <tr>\n",
              "      <th>4</th>\n",
              "      <td>54</td>\n",
              "      <td>M</td>\n",
              "      <td>NAP</td>\n",
              "      <td>150</td>\n",
              "      <td>195</td>\n",
              "      <td>0</td>\n",
              "      <td>Normal</td>\n",
              "      <td>122</td>\n",
              "      <td>N</td>\n",
              "      <td>0.0</td>\n",
              "      <td>Up</td>\n",
              "      <td>0</td>\n",
              "    </tr>\n",
              "    <tr>\n",
              "      <th>...</th>\n",
              "      <td>...</td>\n",
              "      <td>...</td>\n",
              "      <td>...</td>\n",
              "      <td>...</td>\n",
              "      <td>...</td>\n",
              "      <td>...</td>\n",
              "      <td>...</td>\n",
              "      <td>...</td>\n",
              "      <td>...</td>\n",
              "      <td>...</td>\n",
              "      <td>...</td>\n",
              "      <td>...</td>\n",
              "    </tr>\n",
              "    <tr>\n",
              "      <th>913</th>\n",
              "      <td>45</td>\n",
              "      <td>M</td>\n",
              "      <td>TA</td>\n",
              "      <td>110</td>\n",
              "      <td>264</td>\n",
              "      <td>0</td>\n",
              "      <td>Normal</td>\n",
              "      <td>132</td>\n",
              "      <td>N</td>\n",
              "      <td>1.2</td>\n",
              "      <td>Flat</td>\n",
              "      <td>1</td>\n",
              "    </tr>\n",
              "    <tr>\n",
              "      <th>914</th>\n",
              "      <td>68</td>\n",
              "      <td>M</td>\n",
              "      <td>ASY</td>\n",
              "      <td>144</td>\n",
              "      <td>193</td>\n",
              "      <td>1</td>\n",
              "      <td>Normal</td>\n",
              "      <td>141</td>\n",
              "      <td>N</td>\n",
              "      <td>3.4</td>\n",
              "      <td>Flat</td>\n",
              "      <td>1</td>\n",
              "    </tr>\n",
              "    <tr>\n",
              "      <th>915</th>\n",
              "      <td>57</td>\n",
              "      <td>M</td>\n",
              "      <td>ASY</td>\n",
              "      <td>130</td>\n",
              "      <td>131</td>\n",
              "      <td>0</td>\n",
              "      <td>Normal</td>\n",
              "      <td>115</td>\n",
              "      <td>Y</td>\n",
              "      <td>1.2</td>\n",
              "      <td>Flat</td>\n",
              "      <td>1</td>\n",
              "    </tr>\n",
              "    <tr>\n",
              "      <th>916</th>\n",
              "      <td>57</td>\n",
              "      <td>F</td>\n",
              "      <td>ATA</td>\n",
              "      <td>130</td>\n",
              "      <td>236</td>\n",
              "      <td>0</td>\n",
              "      <td>LVH</td>\n",
              "      <td>174</td>\n",
              "      <td>N</td>\n",
              "      <td>0.0</td>\n",
              "      <td>Flat</td>\n",
              "      <td>1</td>\n",
              "    </tr>\n",
              "    <tr>\n",
              "      <th>917</th>\n",
              "      <td>38</td>\n",
              "      <td>M</td>\n",
              "      <td>NAP</td>\n",
              "      <td>138</td>\n",
              "      <td>175</td>\n",
              "      <td>0</td>\n",
              "      <td>Normal</td>\n",
              "      <td>173</td>\n",
              "      <td>N</td>\n",
              "      <td>0.0</td>\n",
              "      <td>Up</td>\n",
              "      <td>0</td>\n",
              "    </tr>\n",
              "  </tbody>\n",
              "</table>\n",
              "<p>918 rows × 12 columns</p>\n",
              "</div>\n",
              "      <button class=\"colab-df-convert\" onclick=\"convertToInteractive('df-639100c3-dd37-4ff2-b4ef-e55075924fea')\"\n",
              "              title=\"Convert this dataframe to an interactive table.\"\n",
              "              style=\"display:none;\">\n",
              "        \n",
              "  <svg xmlns=\"http://www.w3.org/2000/svg\" height=\"24px\"viewBox=\"0 0 24 24\"\n",
              "       width=\"24px\">\n",
              "    <path d=\"M0 0h24v24H0V0z\" fill=\"none\"/>\n",
              "    <path d=\"M18.56 5.44l.94 2.06.94-2.06 2.06-.94-2.06-.94-.94-2.06-.94 2.06-2.06.94zm-11 1L8.5 8.5l.94-2.06 2.06-.94-2.06-.94L8.5 2.5l-.94 2.06-2.06.94zm10 10l.94 2.06.94-2.06 2.06-.94-2.06-.94-.94-2.06-.94 2.06-2.06.94z\"/><path d=\"M17.41 7.96l-1.37-1.37c-.4-.4-.92-.59-1.43-.59-.52 0-1.04.2-1.43.59L10.3 9.45l-7.72 7.72c-.78.78-.78 2.05 0 2.83L4 21.41c.39.39.9.59 1.41.59.51 0 1.02-.2 1.41-.59l7.78-7.78 2.81-2.81c.8-.78.8-2.07 0-2.86zM5.41 20L4 18.59l7.72-7.72 1.47 1.35L5.41 20z\"/>\n",
              "  </svg>\n",
              "      </button>\n",
              "      \n",
              "  <style>\n",
              "    .colab-df-container {\n",
              "      display:flex;\n",
              "      flex-wrap:wrap;\n",
              "      gap: 12px;\n",
              "    }\n",
              "\n",
              "    .colab-df-convert {\n",
              "      background-color: #E8F0FE;\n",
              "      border: none;\n",
              "      border-radius: 50%;\n",
              "      cursor: pointer;\n",
              "      display: none;\n",
              "      fill: #1967D2;\n",
              "      height: 32px;\n",
              "      padding: 0 0 0 0;\n",
              "      width: 32px;\n",
              "    }\n",
              "\n",
              "    .colab-df-convert:hover {\n",
              "      background-color: #E2EBFA;\n",
              "      box-shadow: 0px 1px 2px rgba(60, 64, 67, 0.3), 0px 1px 3px 1px rgba(60, 64, 67, 0.15);\n",
              "      fill: #174EA6;\n",
              "    }\n",
              "\n",
              "    [theme=dark] .colab-df-convert {\n",
              "      background-color: #3B4455;\n",
              "      fill: #D2E3FC;\n",
              "    }\n",
              "\n",
              "    [theme=dark] .colab-df-convert:hover {\n",
              "      background-color: #434B5C;\n",
              "      box-shadow: 0px 1px 3px 1px rgba(0, 0, 0, 0.15);\n",
              "      filter: drop-shadow(0px 1px 2px rgba(0, 0, 0, 0.3));\n",
              "      fill: #FFFFFF;\n",
              "    }\n",
              "  </style>\n",
              "\n",
              "      <script>\n",
              "        const buttonEl =\n",
              "          document.querySelector('#df-639100c3-dd37-4ff2-b4ef-e55075924fea button.colab-df-convert');\n",
              "        buttonEl.style.display =\n",
              "          google.colab.kernel.accessAllowed ? 'block' : 'none';\n",
              "\n",
              "        async function convertToInteractive(key) {\n",
              "          const element = document.querySelector('#df-639100c3-dd37-4ff2-b4ef-e55075924fea');\n",
              "          const dataTable =\n",
              "            await google.colab.kernel.invokeFunction('convertToInteractive',\n",
              "                                                     [key], {});\n",
              "          if (!dataTable) return;\n",
              "\n",
              "          const docLinkHtml = 'Like what you see? Visit the ' +\n",
              "            '<a target=\"_blank\" href=https://colab.research.google.com/notebooks/data_table.ipynb>data table notebook</a>'\n",
              "            + ' to learn more about interactive tables.';\n",
              "          element.innerHTML = '';\n",
              "          dataTable['output_type'] = 'display_data';\n",
              "          await google.colab.output.renderOutput(dataTable, element);\n",
              "          const docLink = document.createElement('div');\n",
              "          docLink.innerHTML = docLinkHtml;\n",
              "          element.appendChild(docLink);\n",
              "        }\n",
              "      </script>\n",
              "    </div>\n",
              "  </div>\n",
              "  "
            ]
          },
          "metadata": {},
          "execution_count": 3
        }
      ]
    },
    {
      "cell_type": "markdown",
      "source": [
        "Comprobamos si existen valores nulos en el dataframe"
      ],
      "metadata": {
        "id": "d32OYi-DUqtk"
      }
    },
    {
      "cell_type": "code",
      "source": [
        "df.isnull().values.any()"
      ],
      "metadata": {
        "colab": {
          "base_uri": "https://localhost:8080/"
        },
        "id": "S4AcuxOkUp_9",
        "outputId": "e0152055-9837-4ff5-c041-8e85fe02a9c3"
      },
      "execution_count": null,
      "outputs": [
        {
          "output_type": "execute_result",
          "data": {
            "text/plain": [
              "False"
            ]
          },
          "metadata": {},
          "execution_count": 4
        }
      ]
    },
    {
      "cell_type": "markdown",
      "source": [
        "Como no hay ningún null ni NaN no hay que hacer tratamiento al dataframe. En caso de existir algún valor null tendríamos dos opiones: eliminar la fila o sustituir los nulos por algún valor, generalmente la media de la columna"
      ],
      "metadata": {
        "id": "6bK9OlLyUpw1"
      }
    },
    {
      "cell_type": "markdown",
      "source": [
        "Aplicamos la funcion BernouliNB de la libreria scikit learn para realizar el Naive Bayes "
      ],
      "metadata": {
        "id": "6xYhpp4gVPQb"
      }
    },
    {
      "cell_type": "code",
      "source": [
        "RANDOM_STATE = 813"
      ],
      "metadata": {
        "id": "SZZJvvCUWGrt"
      },
      "execution_count": null,
      "outputs": []
    },
    {
      "cell_type": "code",
      "source": [
        "X = df.drop(['HeartDisease'], axis=1).values\n",
        "y = df['HeartDisease'].values"
      ],
      "metadata": {
        "id": "dDd9eiZ0ZEUM"
      },
      "execution_count": null,
      "outputs": []
    },
    {
      "cell_type": "markdown",
      "source": [
        "# LabelEncoder\n",
        "Usamos el LabelEncoder para pasar las variables catégoricas a numericas"
      ],
      "metadata": {
        "id": "N8EqESI0bevr"
      }
    },
    {
      "cell_type": "code",
      "source": [
        "df_label = df.apply(preprocessing.LabelEncoder().fit_transform)\n",
        "df_label.head()"
      ],
      "metadata": {
        "colab": {
          "base_uri": "https://localhost:8080/",
          "height": 206
        },
        "id": "agD3lFIvWer9",
        "outputId": "084bbd2b-ce84-4ced-a8cb-55ca36a38bc7"
      },
      "execution_count": null,
      "outputs": [
        {
          "output_type": "execute_result",
          "data": {
            "text/plain": [
              "   Age  Sex  ChestPainType  RestingBP  Cholesterol  FastingBS  RestingECG  \\\n",
              "0   12    1              1         41          147          0           1   \n",
              "1   21    0              2         55           40          0           1   \n",
              "2    9    1              1         31          141          0           2   \n",
              "3   20    0              0         39           72          0           1   \n",
              "4   26    1              2         49           53          0           1   \n",
              "\n",
              "   MaxHR  ExerciseAngina  Oldpeak  ST_Slope  HeartDisease  \n",
              "0     98               0       10         2             0  \n",
              "1     82               0       20         1             1  \n",
              "2     25               0       10         2             0  \n",
              "3     34               1       25         1             1  \n",
              "4     48               0       10         2             0  "
            ],
            "text/html": [
              "\n",
              "  <div id=\"df-0abfeb42-5ae7-442a-af35-8727ffed4b6d\">\n",
              "    <div class=\"colab-df-container\">\n",
              "      <div>\n",
              "<style scoped>\n",
              "    .dataframe tbody tr th:only-of-type {\n",
              "        vertical-align: middle;\n",
              "    }\n",
              "\n",
              "    .dataframe tbody tr th {\n",
              "        vertical-align: top;\n",
              "    }\n",
              "\n",
              "    .dataframe thead th {\n",
              "        text-align: right;\n",
              "    }\n",
              "</style>\n",
              "<table border=\"1\" class=\"dataframe\">\n",
              "  <thead>\n",
              "    <tr style=\"text-align: right;\">\n",
              "      <th></th>\n",
              "      <th>Age</th>\n",
              "      <th>Sex</th>\n",
              "      <th>ChestPainType</th>\n",
              "      <th>RestingBP</th>\n",
              "      <th>Cholesterol</th>\n",
              "      <th>FastingBS</th>\n",
              "      <th>RestingECG</th>\n",
              "      <th>MaxHR</th>\n",
              "      <th>ExerciseAngina</th>\n",
              "      <th>Oldpeak</th>\n",
              "      <th>ST_Slope</th>\n",
              "      <th>HeartDisease</th>\n",
              "    </tr>\n",
              "  </thead>\n",
              "  <tbody>\n",
              "    <tr>\n",
              "      <th>0</th>\n",
              "      <td>12</td>\n",
              "      <td>1</td>\n",
              "      <td>1</td>\n",
              "      <td>41</td>\n",
              "      <td>147</td>\n",
              "      <td>0</td>\n",
              "      <td>1</td>\n",
              "      <td>98</td>\n",
              "      <td>0</td>\n",
              "      <td>10</td>\n",
              "      <td>2</td>\n",
              "      <td>0</td>\n",
              "    </tr>\n",
              "    <tr>\n",
              "      <th>1</th>\n",
              "      <td>21</td>\n",
              "      <td>0</td>\n",
              "      <td>2</td>\n",
              "      <td>55</td>\n",
              "      <td>40</td>\n",
              "      <td>0</td>\n",
              "      <td>1</td>\n",
              "      <td>82</td>\n",
              "      <td>0</td>\n",
              "      <td>20</td>\n",
              "      <td>1</td>\n",
              "      <td>1</td>\n",
              "    </tr>\n",
              "    <tr>\n",
              "      <th>2</th>\n",
              "      <td>9</td>\n",
              "      <td>1</td>\n",
              "      <td>1</td>\n",
              "      <td>31</td>\n",
              "      <td>141</td>\n",
              "      <td>0</td>\n",
              "      <td>2</td>\n",
              "      <td>25</td>\n",
              "      <td>0</td>\n",
              "      <td>10</td>\n",
              "      <td>2</td>\n",
              "      <td>0</td>\n",
              "    </tr>\n",
              "    <tr>\n",
              "      <th>3</th>\n",
              "      <td>20</td>\n",
              "      <td>0</td>\n",
              "      <td>0</td>\n",
              "      <td>39</td>\n",
              "      <td>72</td>\n",
              "      <td>0</td>\n",
              "      <td>1</td>\n",
              "      <td>34</td>\n",
              "      <td>1</td>\n",
              "      <td>25</td>\n",
              "      <td>1</td>\n",
              "      <td>1</td>\n",
              "    </tr>\n",
              "    <tr>\n",
              "      <th>4</th>\n",
              "      <td>26</td>\n",
              "      <td>1</td>\n",
              "      <td>2</td>\n",
              "      <td>49</td>\n",
              "      <td>53</td>\n",
              "      <td>0</td>\n",
              "      <td>1</td>\n",
              "      <td>48</td>\n",
              "      <td>0</td>\n",
              "      <td>10</td>\n",
              "      <td>2</td>\n",
              "      <td>0</td>\n",
              "    </tr>\n",
              "  </tbody>\n",
              "</table>\n",
              "</div>\n",
              "      <button class=\"colab-df-convert\" onclick=\"convertToInteractive('df-0abfeb42-5ae7-442a-af35-8727ffed4b6d')\"\n",
              "              title=\"Convert this dataframe to an interactive table.\"\n",
              "              style=\"display:none;\">\n",
              "        \n",
              "  <svg xmlns=\"http://www.w3.org/2000/svg\" height=\"24px\"viewBox=\"0 0 24 24\"\n",
              "       width=\"24px\">\n",
              "    <path d=\"M0 0h24v24H0V0z\" fill=\"none\"/>\n",
              "    <path d=\"M18.56 5.44l.94 2.06.94-2.06 2.06-.94-2.06-.94-.94-2.06-.94 2.06-2.06.94zm-11 1L8.5 8.5l.94-2.06 2.06-.94-2.06-.94L8.5 2.5l-.94 2.06-2.06.94zm10 10l.94 2.06.94-2.06 2.06-.94-2.06-.94-.94-2.06-.94 2.06-2.06.94z\"/><path d=\"M17.41 7.96l-1.37-1.37c-.4-.4-.92-.59-1.43-.59-.52 0-1.04.2-1.43.59L10.3 9.45l-7.72 7.72c-.78.78-.78 2.05 0 2.83L4 21.41c.39.39.9.59 1.41.59.51 0 1.02-.2 1.41-.59l7.78-7.78 2.81-2.81c.8-.78.8-2.07 0-2.86zM5.41 20L4 18.59l7.72-7.72 1.47 1.35L5.41 20z\"/>\n",
              "  </svg>\n",
              "      </button>\n",
              "      \n",
              "  <style>\n",
              "    .colab-df-container {\n",
              "      display:flex;\n",
              "      flex-wrap:wrap;\n",
              "      gap: 12px;\n",
              "    }\n",
              "\n",
              "    .colab-df-convert {\n",
              "      background-color: #E8F0FE;\n",
              "      border: none;\n",
              "      border-radius: 50%;\n",
              "      cursor: pointer;\n",
              "      display: none;\n",
              "      fill: #1967D2;\n",
              "      height: 32px;\n",
              "      padding: 0 0 0 0;\n",
              "      width: 32px;\n",
              "    }\n",
              "\n",
              "    .colab-df-convert:hover {\n",
              "      background-color: #E2EBFA;\n",
              "      box-shadow: 0px 1px 2px rgba(60, 64, 67, 0.3), 0px 1px 3px 1px rgba(60, 64, 67, 0.15);\n",
              "      fill: #174EA6;\n",
              "    }\n",
              "\n",
              "    [theme=dark] .colab-df-convert {\n",
              "      background-color: #3B4455;\n",
              "      fill: #D2E3FC;\n",
              "    }\n",
              "\n",
              "    [theme=dark] .colab-df-convert:hover {\n",
              "      background-color: #434B5C;\n",
              "      box-shadow: 0px 1px 3px 1px rgba(0, 0, 0, 0.15);\n",
              "      filter: drop-shadow(0px 1px 2px rgba(0, 0, 0, 0.3));\n",
              "      fill: #FFFFFF;\n",
              "    }\n",
              "  </style>\n",
              "\n",
              "      <script>\n",
              "        const buttonEl =\n",
              "          document.querySelector('#df-0abfeb42-5ae7-442a-af35-8727ffed4b6d button.colab-df-convert');\n",
              "        buttonEl.style.display =\n",
              "          google.colab.kernel.accessAllowed ? 'block' : 'none';\n",
              "\n",
              "        async function convertToInteractive(key) {\n",
              "          const element = document.querySelector('#df-0abfeb42-5ae7-442a-af35-8727ffed4b6d');\n",
              "          const dataTable =\n",
              "            await google.colab.kernel.invokeFunction('convertToInteractive',\n",
              "                                                     [key], {});\n",
              "          if (!dataTable) return;\n",
              "\n",
              "          const docLinkHtml = 'Like what you see? Visit the ' +\n",
              "            '<a target=\"_blank\" href=https://colab.research.google.com/notebooks/data_table.ipynb>data table notebook</a>'\n",
              "            + ' to learn more about interactive tables.';\n",
              "          element.innerHTML = '';\n",
              "          dataTable['output_type'] = 'display_data';\n",
              "          await google.colab.output.renderOutput(dataTable, element);\n",
              "          const docLink = document.createElement('div');\n",
              "          docLink.innerHTML = docLinkHtml;\n",
              "          element.appendChild(docLink);\n",
              "        }\n",
              "      </script>\n",
              "    </div>\n",
              "  </div>\n",
              "  "
            ]
          },
          "metadata": {},
          "execution_count": 7
        }
      ]
    },
    {
      "cell_type": "code",
      "source": [
        "X = df_label.drop(['HeartDisease'], axis=1).values\n",
        "y = df_label['HeartDisease'].values\n",
        "\n",
        "X_train_label, X_test_label, y_train_label, y_test_label = train_test_split(X, y, test_size=0.1, random_state = RANDOM_STATE)\n",
        "X_train_label, X_val_label, y_train_label, y_val_label = train_test_split(X_train_label, y_train_label, test_size=0.1, random_state = RANDOM_STATE)"
      ],
      "metadata": {
        "id": "P9VGbMyPVOZ8"
      },
      "execution_count": null,
      "outputs": []
    },
    {
      "cell_type": "code",
      "source": [
        "from sklearn.naive_bayes import BernoulliNB\n",
        "\n",
        "clf = BernoulliNB(alpha=1.0, fit_prior=True)  # alpha es el coeficiente de alisado, y fit_prior=True indica que aprenderá prior del conjunto de entrenamiento\n",
        "\n",
        "clf.fit(X_train_label, y_train_label)   # el método fit entrena el modelo con los datos que se le pasan"
      ],
      "metadata": {
        "colab": {
          "base_uri": "https://localhost:8080/",
          "height": 74
        },
        "id": "eHm68gcMU7aU",
        "outputId": "a8333da6-f2ee-4d45-cda7-30c6a938eaa6"
      },
      "execution_count": null,
      "outputs": [
        {
          "output_type": "execute_result",
          "data": {
            "text/plain": [
              "BernoulliNB()"
            ],
            "text/html": [
              "<style>#sk-container-id-1 {color: black;background-color: white;}#sk-container-id-1 pre{padding: 0;}#sk-container-id-1 div.sk-toggleable {background-color: white;}#sk-container-id-1 label.sk-toggleable__label {cursor: pointer;display: block;width: 100%;margin-bottom: 0;padding: 0.3em;box-sizing: border-box;text-align: center;}#sk-container-id-1 label.sk-toggleable__label-arrow:before {content: \"▸\";float: left;margin-right: 0.25em;color: #696969;}#sk-container-id-1 label.sk-toggleable__label-arrow:hover:before {color: black;}#sk-container-id-1 div.sk-estimator:hover label.sk-toggleable__label-arrow:before {color: black;}#sk-container-id-1 div.sk-toggleable__content {max-height: 0;max-width: 0;overflow: hidden;text-align: left;background-color: #f0f8ff;}#sk-container-id-1 div.sk-toggleable__content pre {margin: 0.2em;color: black;border-radius: 0.25em;background-color: #f0f8ff;}#sk-container-id-1 input.sk-toggleable__control:checked~div.sk-toggleable__content {max-height: 200px;max-width: 100%;overflow: auto;}#sk-container-id-1 input.sk-toggleable__control:checked~label.sk-toggleable__label-arrow:before {content: \"▾\";}#sk-container-id-1 div.sk-estimator input.sk-toggleable__control:checked~label.sk-toggleable__label {background-color: #d4ebff;}#sk-container-id-1 div.sk-label input.sk-toggleable__control:checked~label.sk-toggleable__label {background-color: #d4ebff;}#sk-container-id-1 input.sk-hidden--visually {border: 0;clip: rect(1px 1px 1px 1px);clip: rect(1px, 1px, 1px, 1px);height: 1px;margin: -1px;overflow: hidden;padding: 0;position: absolute;width: 1px;}#sk-container-id-1 div.sk-estimator {font-family: monospace;background-color: #f0f8ff;border: 1px dotted black;border-radius: 0.25em;box-sizing: border-box;margin-bottom: 0.5em;}#sk-container-id-1 div.sk-estimator:hover {background-color: #d4ebff;}#sk-container-id-1 div.sk-parallel-item::after {content: \"\";width: 100%;border-bottom: 1px solid gray;flex-grow: 1;}#sk-container-id-1 div.sk-label:hover label.sk-toggleable__label {background-color: #d4ebff;}#sk-container-id-1 div.sk-serial::before {content: \"\";position: absolute;border-left: 1px solid gray;box-sizing: border-box;top: 0;bottom: 0;left: 50%;z-index: 0;}#sk-container-id-1 div.sk-serial {display: flex;flex-direction: column;align-items: center;background-color: white;padding-right: 0.2em;padding-left: 0.2em;position: relative;}#sk-container-id-1 div.sk-item {position: relative;z-index: 1;}#sk-container-id-1 div.sk-parallel {display: flex;align-items: stretch;justify-content: center;background-color: white;position: relative;}#sk-container-id-1 div.sk-item::before, #sk-container-id-1 div.sk-parallel-item::before {content: \"\";position: absolute;border-left: 1px solid gray;box-sizing: border-box;top: 0;bottom: 0;left: 50%;z-index: -1;}#sk-container-id-1 div.sk-parallel-item {display: flex;flex-direction: column;z-index: 1;position: relative;background-color: white;}#sk-container-id-1 div.sk-parallel-item:first-child::after {align-self: flex-end;width: 50%;}#sk-container-id-1 div.sk-parallel-item:last-child::after {align-self: flex-start;width: 50%;}#sk-container-id-1 div.sk-parallel-item:only-child::after {width: 0;}#sk-container-id-1 div.sk-dashed-wrapped {border: 1px dashed gray;margin: 0 0.4em 0.5em 0.4em;box-sizing: border-box;padding-bottom: 0.4em;background-color: white;}#sk-container-id-1 div.sk-label label {font-family: monospace;font-weight: bold;display: inline-block;line-height: 1.2em;}#sk-container-id-1 div.sk-label-container {text-align: center;}#sk-container-id-1 div.sk-container {/* jupyter's `normalize.less` sets `[hidden] { display: none; }` but bootstrap.min.css set `[hidden] { display: none !important; }` so we also need the `!important` here to be able to override the default hidden behavior on the sphinx rendered scikit-learn.org. See: https://github.com/scikit-learn/scikit-learn/issues/21755 */display: inline-block !important;position: relative;}#sk-container-id-1 div.sk-text-repr-fallback {display: none;}</style><div id=\"sk-container-id-1\" class=\"sk-top-container\"><div class=\"sk-text-repr-fallback\"><pre>BernoulliNB()</pre><b>In a Jupyter environment, please rerun this cell to show the HTML representation or trust the notebook. <br />On GitHub, the HTML representation is unable to render, please try loading this page with nbviewer.org.</b></div><div class=\"sk-container\" hidden><div class=\"sk-item\"><div class=\"sk-estimator sk-toggleable\"><input class=\"sk-toggleable__control sk-hidden--visually\" id=\"sk-estimator-id-1\" type=\"checkbox\" checked><label for=\"sk-estimator-id-1\" class=\"sk-toggleable__label sk-toggleable__label-arrow\">BernoulliNB</label><div class=\"sk-toggleable__content\"><pre>BernoulliNB()</pre></div></div></div></div></div>"
            ]
          },
          "metadata": {},
          "execution_count": 9
        }
      ]
    },
    {
      "cell_type": "markdown",
      "source": [
        "Entrenado el modelo ya se puede probar con el método predict_proba() para obtener las probabilidades de cada clase, y el método predict() para obtener la clase más probable."
      ],
      "metadata": {
        "id": "52Qq0rc-U_nb"
      }
    },
    {
      "cell_type": "code",
      "source": [
        "pred_prob = clf.predict_proba(X_test_label)\n",
        "print('[scikit-learn] Predicted probabilities:\\n', pred_prob)\n",
        "\n",
        "pred = clf.predict(X_test_label)\n",
        "print('[scikit-learn] Prediction:', pred)"
      ],
      "metadata": {
        "colab": {
          "base_uri": "https://localhost:8080/"
        },
        "id": "cSkHjj8LU_Ak",
        "outputId": "aa0183b4-e3a4-4400-aace-60c30abcf967"
      },
      "execution_count": null,
      "outputs": [
        {
          "output_type": "stream",
          "name": "stdout",
          "text": [
            "[scikit-learn] Predicted probabilities:\n",
            " [[0.09382091 0.90617909]\n",
            " [0.03222841 0.96777159]\n",
            " [0.03222841 0.96777159]\n",
            " [0.97198761 0.02801239]\n",
            " [0.09382091 0.90617909]\n",
            " [0.97198761 0.02801239]\n",
            " [0.01182079 0.98817921]\n",
            " [0.09382091 0.90617909]\n",
            " [0.96554752 0.03445248]\n",
            " [0.002943   0.997057  ]\n",
            " [0.01182079 0.98817921]\n",
            " [0.1026736  0.8973264 ]\n",
            " [0.97198761 0.02801239]\n",
            " [0.81305885 0.18694115]\n",
            " [0.09382091 0.90617909]\n",
            " [0.09382091 0.90617909]\n",
            " [0.88765185 0.11234815]\n",
            " [0.02491087 0.97508913]\n",
            " [0.09382091 0.90617909]\n",
            " [0.91776781 0.08223219]\n",
            " [0.61159455 0.38840545]\n",
            " [0.31257028 0.68742972]\n",
            " [0.02491087 0.97508913]\n",
            " [0.81305885 0.18694115]\n",
            " [0.97198761 0.02801239]\n",
            " [0.02491087 0.97508913]\n",
            " [0.02745842 0.97254158]\n",
            " [0.03305222 0.96694778]\n",
            " [0.86452525 0.13547475]\n",
            " [0.07717023 0.92282977]\n",
            " [0.88765185 0.11234815]\n",
            " [0.09382091 0.90617909]\n",
            " [0.02021702 0.97978298]\n",
            " [0.96554752 0.03445248]\n",
            " [0.77841056 0.22158944]\n",
            " [0.02745842 0.97254158]\n",
            " [0.07717023 0.92282977]\n",
            " [0.49757269 0.50242731]\n",
            " [0.88765185 0.11234815]\n",
            " [0.44440799 0.55559201]\n",
            " [0.44440799 0.55559201]\n",
            " [0.09382091 0.90617909]\n",
            " [0.66096592 0.33903408]\n",
            " [0.01182079 0.98817921]\n",
            " [0.1026736  0.8973264 ]\n",
            " [0.88765185 0.11234815]\n",
            " [0.97198761 0.02801239]\n",
            " [0.97198761 0.02801239]\n",
            " [0.86452525 0.13547475]\n",
            " [0.49757269 0.50242731]\n",
            " [0.88765185 0.11234815]\n",
            " [0.88765185 0.11234815]\n",
            " [0.97198761 0.02801239]\n",
            " [0.86452525 0.13547475]\n",
            " [0.01182079 0.98817921]\n",
            " [0.96554752 0.03445248]\n",
            " [0.80035917 0.19964083]\n",
            " [0.02229551 0.97770449]\n",
            " [0.88765185 0.11234815]\n",
            " [0.77841056 0.22158944]\n",
            " [0.86452525 0.13547475]\n",
            " [0.03222841 0.96777159]\n",
            " [0.88765185 0.11234815]\n",
            " [0.88765185 0.11234815]\n",
            " [0.09382091 0.90617909]\n",
            " [0.00415219 0.99584781]\n",
            " [0.09382091 0.90617909]\n",
            " [0.02491087 0.97508913]\n",
            " [0.44440799 0.55559201]\n",
            " [0.88765185 0.11234815]\n",
            " [0.07717023 0.92282977]\n",
            " [0.002943   0.997057  ]\n",
            " [0.88765185 0.11234815]\n",
            " [0.02491087 0.97508913]\n",
            " [0.22697408 0.77302592]\n",
            " [0.19637845 0.80362155]\n",
            " [0.74554174 0.25445826]\n",
            " [0.02745842 0.97254158]\n",
            " [0.31257028 0.68742972]\n",
            " [0.09382091 0.90617909]\n",
            " [0.49757269 0.50242731]\n",
            " [0.7176184  0.2823816 ]\n",
            " [0.86452525 0.13547475]\n",
            " [0.87366267 0.12633733]\n",
            " [0.44440799 0.55559201]\n",
            " [0.07717023 0.92282977]\n",
            " [0.16483744 0.83516256]\n",
            " [0.09382091 0.90617909]\n",
            " [0.02745842 0.97254158]\n",
            " [0.49757269 0.50242731]\n",
            " [0.86452525 0.13547475]\n",
            " [0.88765185 0.11234815]]\n",
            "[scikit-learn] Prediction: [1 1 1 0 1 0 1 1 0 1 1 1 0 0 1 1 0 1 1 0 0 1 1 0 0 1 1 1 0 1 0 1 1 0 0 1 1\n",
            " 1 0 1 1 1 0 1 1 0 0 0 0 1 0 0 0 0 1 0 0 1 0 0 0 1 0 0 1 1 1 1 1 0 1 1 0 1\n",
            " 1 1 0 1 1 1 1 0 0 0 1 1 1 1 1 1 0 0]\n"
          ]
        }
      ]
    },
    {
      "cell_type": "code",
      "source": [
        "from sklearn.model_selection import train_test_split\n",
        "from sklearn.metrics import confusion_matrix\n",
        "from sklearn.metrics import roc_auc_score\n",
        "from sklearn.model_selection import cross_val_score\n",
        "from sklearn.model_selection import GridSearchCV\n",
        "from sklearn.metrics import classification_report\n",
        "from sklearn.metrics import accuracy_score\n",
        "from sklearn.model_selection import RepeatedStratifiedKFold\n",
        "from sklearn.metrics import precision_recall_curve\n",
        "from sklearn.metrics import RocCurveDisplay\n",
        "from sklearn.svm import SVC"
      ],
      "metadata": {
        "id": "-hELYrHmaqci"
      },
      "execution_count": null,
      "outputs": []
    },
    {
      "cell_type": "code",
      "source": [
        "cv = RepeatedStratifiedKFold(n_splits = 10,n_repeats = 3,random_state = 1)\n",
        "\n",
        "print(\"Precisión (Acurracy) : \",'{0:.2%}'.format(accuracy_score(y_test_label,pred)))\n",
        "print(\"Puntuación de validación cruzada(Cross Validation Score) : \",'{0:.2%}'.format(cross_val_score(clf,X_train_label,y_train_label,cv = cv,scoring = 'roc_auc').mean()))\n",
        "print(\"Puntuación ROC_AUC : \",'{0:.2%}'.format(roc_auc_score(y_test_label,pred)))\n",
        "\n",
        "RocCurveDisplay.from_estimator(clf, X_test_label,y_test_label)\n",
        "\n",
        "plt.title('ROC_AUC')\n",
        "plt.show()"
      ],
      "metadata": {
        "colab": {
          "base_uri": "https://localhost:8080/",
          "height": 523
        },
        "id": "UpD5CTR7jytb",
        "outputId": "79d721bd-dd83-496f-f4e0-bd465afa5bcd"
      },
      "execution_count": null,
      "outputs": [
        {
          "output_type": "stream",
          "name": "stdout",
          "text": [
            "Precisión (Acurracy) :  85.87%\n",
            "Puntuación de validación cruzada(Cross Validation Score) :  87.55%\n",
            "Puntuación ROC_AUC :  85.61%\n"
          ]
        },
        {
          "output_type": "display_data",
          "data": {
            "text/plain": [
              "<Figure size 640x480 with 1 Axes>"
            ],
            "image/png": "[encoded data removed]"
          },
          "metadata": {}
        }
      ]
    },
    {
      "cell_type": "code",
      "source": [
        "colores = ['#55A4DB','#FFBF24']\n",
        "# Matriz de confusión\n",
        "\n",
        "cm = confusion_matrix(y_test_label,clf.predict(X_test_label))\n",
        "nombres = ['Verdadero Negativo','Falso Positivo','Falso Negativo','Verdadero Positivo']\n",
        "counts = [value for value in cm.flatten()]\n",
        "porcentajes = ['{0:.2%}'.format(value) for value in cm.flatten()/np.sum(cm)]\n",
        "etiquetas = [f'{v1}\\n{v2}\\n{v3}' for v1, v2, v3 in zip(nombres,counts,porcentajes)]\n",
        "etiquetas = np.asarray(etiquetas).reshape(2,2)\n",
        "sns.heatmap(cm,annot = etiquetas,cmap = colores,fmt ='')\n",
        "\n",
        "# Informe con clasificaciones\n",
        "print(classification_report(y_test_label,clf.predict(X_test_label)))"
      ],
      "metadata": {
        "colab": {
          "base_uri": "https://localhost:8080/",
          "height": 586
        },
        "id": "tTOgzziwjyn6",
        "outputId": "d6ee8e56-73d6-46c3-ad6f-4d45b5f2f9c7"
      },
      "execution_count": null,
      "outputs": [
        {
          "output_type": "stream",
          "name": "stdout",
          "text": [
            "              precision    recall  f1-score   support\n",
            "\n",
            "           0       0.90      0.80      0.84        44\n",
            "           1       0.83      0.92      0.87        48\n",
            "\n",
            "    accuracy                           0.86        92\n",
            "   macro avg       0.86      0.86      0.86        92\n",
            "weighted avg       0.86      0.86      0.86        92\n",
            "\n"
          ]
        },
        {
          "output_type": "display_data",
          "data": {
            "text/plain": [
              "<Figure size 640x480 with 2 Axes>"
            ],
            "image/png": "[encoded data removed]"
          },
          "metadata": {}
        }
      ]
    },
    {
      "cell_type": "markdown",
      "source": [
        "# One Hot Encoder"
      ],
      "metadata": {
        "id": "kwsm7drqY00M"
      }
    },
    {
      "cell_type": "code",
      "source": [
        "\n",
        "X_train, X_test, y_train, y_test = train_test_split(X, y, test_size=0.1, random_state = RANDOM_STATE)\n",
        "X_train, X_val, y_train, y_val = train_test_split(X_train, y_train, test_size=0.1, random_state = RANDOM_STATE)"
      ],
      "metadata": {
        "id": "pZCtjzwvabKM"
      },
      "execution_count": null,
      "outputs": []
    },
    {
      "cell_type": "code",
      "source": [
        "#X_train, X_test, Y_train, Y_test = train_test_split(X, y, test_size=0.2)"
      ],
      "metadata": {
        "id": "54tuzN4Ga7Wk"
      },
      "execution_count": null,
      "outputs": []
    },
    {
      "cell_type": "code",
      "source": [
        "from sklearn.preprocessing import OneHotEncoder\n",
        "enc = OneHotEncoder(handle_unknown='ignore')\n",
        "X_train_enc = enc.fit_transform(X_train)\n",
        "\n",
        "X_test_enc = enc.transform(X_test)\n"
      ],
      "metadata": {
        "id": "HHWaqPU-W4sg"
      },
      "execution_count": null,
      "outputs": []
    },
    {
      "cell_type": "code",
      "source": [
        "from sklearn.naive_bayes import BernoulliNB\n",
        "\n",
        "clf = BernoulliNB(alpha=1.0, fit_prior=True)  # alpha es el coeficiente de alisado, y fit_prior=True indica que aprenderá prior del conjunto de entrenamiento\n",
        "\n",
        "clf.fit(X_train_enc, y_train)   # el método fit entrena el modelo con los datos que se le pasan"
      ],
      "metadata": {
        "colab": {
          "base_uri": "https://localhost:8080/",
          "height": 74
        },
        "id": "W10f2h54Y3ci",
        "outputId": "04aa48c3-3825-4f5a-fc32-bfb5c6a309bf"
      },
      "execution_count": null,
      "outputs": [
        {
          "output_type": "execute_result",
          "data": {
            "text/plain": [
              "BernoulliNB()"
            ],
            "text/html": [
              "<style>#sk-container-id-2 {color: black;background-color: white;}#sk-container-id-2 pre{padding: 0;}#sk-container-id-2 div.sk-toggleable {background-color: white;}#sk-container-id-2 label.sk-toggleable__label {cursor: pointer;display: block;width: 100%;margin-bottom: 0;padding: 0.3em;box-sizing: border-box;text-align: center;}#sk-container-id-2 label.sk-toggleable__label-arrow:before {content: \"▸\";float: left;margin-right: 0.25em;color: #696969;}#sk-container-id-2 label.sk-toggleable__label-arrow:hover:before {color: black;}#sk-container-id-2 div.sk-estimator:hover label.sk-toggleable__label-arrow:before {color: black;}#sk-container-id-2 div.sk-toggleable__content {max-height: 0;max-width: 0;overflow: hidden;text-align: left;background-color: #f0f8ff;}#sk-container-id-2 div.sk-toggleable__content pre {margin: 0.2em;color: black;border-radius: 0.25em;background-color: #f0f8ff;}#sk-container-id-2 input.sk-toggleable__control:checked~div.sk-toggleable__content {max-height: 200px;max-width: 100%;overflow: auto;}#sk-container-id-2 input.sk-toggleable__control:checked~label.sk-toggleable__label-arrow:before {content: \"▾\";}#sk-container-id-2 div.sk-estimator input.sk-toggleable__control:checked~label.sk-toggleable__label {background-color: #d4ebff;}#sk-container-id-2 div.sk-label input.sk-toggleable__control:checked~label.sk-toggleable__label {background-color: #d4ebff;}#sk-container-id-2 input.sk-hidden--visually {border: 0;clip: rect(1px 1px 1px 1px);clip: rect(1px, 1px, 1px, 1px);height: 1px;margin: -1px;overflow: hidden;padding: 0;position: absolute;width: 1px;}#sk-container-id-2 div.sk-estimator {font-family: monospace;background-color: #f0f8ff;border: 1px dotted black;border-radius: 0.25em;box-sizing: border-box;margin-bottom: 0.5em;}#sk-container-id-2 div.sk-estimator:hover {background-color: #d4ebff;}#sk-container-id-2 div.sk-parallel-item::after {content: \"\";width: 100%;border-bottom: 1px solid gray;flex-grow: 1;}#sk-container-id-2 div.sk-label:hover label.sk-toggleable__label {background-color: #d4ebff;}#sk-container-id-2 div.sk-serial::before {content: \"\";position: absolute;border-left: 1px solid gray;box-sizing: border-box;top: 0;bottom: 0;left: 50%;z-index: 0;}#sk-container-id-2 div.sk-serial {display: flex;flex-direction: column;align-items: center;background-color: white;padding-right: 0.2em;padding-left: 0.2em;position: relative;}#sk-container-id-2 div.sk-item {position: relative;z-index: 1;}#sk-container-id-2 div.sk-parallel {display: flex;align-items: stretch;justify-content: center;background-color: white;position: relative;}#sk-container-id-2 div.sk-item::before, #sk-container-id-2 div.sk-parallel-item::before {content: \"\";position: absolute;border-left: 1px solid gray;box-sizing: border-box;top: 0;bottom: 0;left: 50%;z-index: -1;}#sk-container-id-2 div.sk-parallel-item {display: flex;flex-direction: column;z-index: 1;position: relative;background-color: white;}#sk-container-id-2 div.sk-parallel-item:first-child::after {align-self: flex-end;width: 50%;}#sk-container-id-2 div.sk-parallel-item:last-child::after {align-self: flex-start;width: 50%;}#sk-container-id-2 div.sk-parallel-item:only-child::after {width: 0;}#sk-container-id-2 div.sk-dashed-wrapped {border: 1px dashed gray;margin: 0 0.4em 0.5em 0.4em;box-sizing: border-box;padding-bottom: 0.4em;background-color: white;}#sk-container-id-2 div.sk-label label {font-family: monospace;font-weight: bold;display: inline-block;line-height: 1.2em;}#sk-container-id-2 div.sk-label-container {text-align: center;}#sk-container-id-2 div.sk-container {/* jupyter's `normalize.less` sets `[hidden] { display: none; }` but bootstrap.min.css set `[hidden] { display: none !important; }` so we also need the `!important` here to be able to override the default hidden behavior on the sphinx rendered scikit-learn.org. See: https://github.com/scikit-learn/scikit-learn/issues/21755 */display: inline-block !important;position: relative;}#sk-container-id-2 div.sk-text-repr-fallback {display: none;}</style><div id=\"sk-container-id-2\" class=\"sk-top-container\"><div class=\"sk-text-repr-fallback\"><pre>BernoulliNB()</pre><b>In a Jupyter environment, please rerun this cell to show the HTML representation or trust the notebook. <br />On GitHub, the HTML representation is unable to render, please try loading this page with nbviewer.org.</b></div><div class=\"sk-container\" hidden><div class=\"sk-item\"><div class=\"sk-estimator sk-toggleable\"><input class=\"sk-toggleable__control sk-hidden--visually\" id=\"sk-estimator-id-2\" type=\"checkbox\" checked><label for=\"sk-estimator-id-2\" class=\"sk-toggleable__label sk-toggleable__label-arrow\">BernoulliNB</label><div class=\"sk-toggleable__content\"><pre>BernoulliNB()</pre></div></div></div></div></div>"
            ]
          },
          "metadata": {},
          "execution_count": 17
        }
      ]
    },
    {
      "cell_type": "code",
      "source": [
        "pred_prob = clf.predict_proba(X_test_enc)\n",
        "print('[scikit-learn] Predicted probabilities:\\n', pred_prob)\n",
        "\n",
        "pred = clf.predict(X_test_enc)\n",
        "print('[scikit-learn] Prediction:', pred)"
      ],
      "metadata": {
        "colab": {
          "base_uri": "https://localhost:8080/"
        },
        "id": "2RNXDCmzZ3Ym",
        "outputId": "f025901c-f81b-451c-fed2-d4ff2cfbf071"
      },
      "execution_count": null,
      "outputs": [
        {
          "output_type": "stream",
          "name": "stdout",
          "text": [
            "[scikit-learn] Predicted probabilities:\n",
            " [[1.69791737e-04 9.99830208e-01]\n",
            " [5.12213755e-05 9.99948779e-01]\n",
            " [1.45733659e-04 9.99854266e-01]\n",
            " [9.99980687e-01 1.93133411e-05]\n",
            " [8.93489638e-03 9.91065104e-01]\n",
            " [9.99999024e-01 9.76069887e-07]\n",
            " [5.66015852e-07 9.99999434e-01]\n",
            " [1.10773519e-04 9.99889226e-01]\n",
            " [9.99987796e-01 1.22043609e-05]\n",
            " [2.14991236e-07 9.99999785e-01]\n",
            " [8.72978647e-03 9.91270214e-01]\n",
            " [7.70662128e-01 2.29337872e-01]\n",
            " [9.99988273e-01 1.17266586e-05]\n",
            " [6.50930242e-01 3.49069758e-01]\n",
            " [4.11432855e-03 9.95885671e-01]\n",
            " [1.90319565e-04 9.99809680e-01]\n",
            " [9.99993229e-01 6.77076880e-06]\n",
            " [1.59532570e-07 9.99999840e-01]\n",
            " [8.99686427e-01 1.00313573e-01]\n",
            " [6.69333820e-01 3.30666180e-01]\n",
            " [1.58591079e-03 9.98414089e-01]\n",
            " [1.56879237e-02 9.84312076e-01]\n",
            " [2.50174994e-06 9.99997498e-01]\n",
            " [9.99972997e-01 2.70025406e-05]\n",
            " [9.99614928e-01 3.85071666e-04]\n",
            " [1.40734370e-06 9.99998593e-01]\n",
            " [3.80408488e-04 9.99619592e-01]\n",
            " [5.79973795e-04 9.99420026e-01]\n",
            " [9.99860271e-01 1.39729335e-04]\n",
            " [2.48134822e-01 7.51865178e-01]\n",
            " [9.99968321e-01 3.16789163e-05]\n",
            " [5.83999778e-04 9.99416000e-01]\n",
            " [1.20544118e-04 9.99879456e-01]\n",
            " [9.99507238e-01 4.92761864e-04]\n",
            " [1.78562512e-02 9.82143749e-01]\n",
            " [6.55548059e-02 9.34445194e-01]\n",
            " [5.01820180e-06 9.99994982e-01]\n",
            " [1.10239231e-02 9.88976077e-01]\n",
            " [9.99863632e-01 1.36367633e-04]\n",
            " [8.14242417e-01 1.85757583e-01]\n",
            " [9.66924269e-01 3.30757312e-02]\n",
            " [3.47871868e-04 9.99652128e-01]\n",
            " [9.96370524e-01 3.62947562e-03]\n",
            " [8.12190770e-03 9.91878092e-01]\n",
            " [1.61958298e-01 8.38041702e-01]\n",
            " [9.99840590e-01 1.59409704e-04]\n",
            " [9.99998722e-01 1.27750038e-06]\n",
            " [9.99992801e-01 7.19907584e-06]\n",
            " [9.99358684e-01 6.41315559e-04]\n",
            " [9.99379916e-01 6.20083677e-04]\n",
            " [9.99810977e-01 1.89023382e-04]\n",
            " [9.99912229e-01 8.77706765e-05]\n",
            " [9.99999508e-01 4.91705944e-07]\n",
            " [9.91395876e-01 8.60412429e-03]\n",
            " [6.94180965e-07 9.99999306e-01]\n",
            " [9.18539798e-01 8.14602021e-02]\n",
            " [9.98885708e-01 1.11429191e-03]\n",
            " [3.85760688e-03 9.96142393e-01]\n",
            " [9.97769994e-01 2.23000578e-03]\n",
            " [9.98902060e-01 1.09793977e-03]\n",
            " [7.86013164e-01 2.13986836e-01]\n",
            " [8.30266923e-06 9.99991697e-01]\n",
            " [9.99993998e-01 6.00171619e-06]\n",
            " [9.98300791e-01 1.69920891e-03]\n",
            " [8.48878356e-04 9.99151122e-01]\n",
            " [1.00379217e-05 9.99989962e-01]\n",
            " [2.74198681e-06 9.99997258e-01]\n",
            " [2.77310697e-05 9.99972269e-01]\n",
            " [9.92263244e-01 7.73675563e-03]\n",
            " [9.36003774e-01 6.39962258e-02]\n",
            " [5.62144062e-02 9.43785594e-01]\n",
            " [1.12735736e-06 9.99998873e-01]\n",
            " [8.87033045e-01 1.12966955e-01]\n",
            " [1.77240927e-05 9.99982276e-01]\n",
            " [2.27262468e-01 7.72737532e-01]\n",
            " [3.95004982e-04 9.99604995e-01]\n",
            " [9.98933762e-01 1.06623766e-03]\n",
            " [8.32778940e-05 9.99916722e-01]\n",
            " [5.55039954e-03 9.94449600e-01]\n",
            " [5.13420142e-01 4.86579858e-01]\n",
            " [9.78910072e-01 2.10899283e-02]\n",
            " [9.99513198e-01 4.86801766e-04]\n",
            " [9.99890052e-01 1.09948352e-04]\n",
            " [9.99607785e-01 3.92215039e-04]\n",
            " [9.36509260e-04 9.99063491e-01]\n",
            " [6.81375609e-05 9.99931862e-01]\n",
            " [4.03533294e-01 5.96466706e-01]\n",
            " [8.30649907e-05 9.99916935e-01]\n",
            " [1.22377889e-05 9.99987762e-01]\n",
            " [8.96736400e-01 1.03263600e-01]\n",
            " [9.99735649e-01 2.64351357e-04]\n",
            " [9.96509822e-01 3.49017777e-03]]\n",
            "[scikit-learn] Prediction: [1 1 1 0 1 0 1 1 0 1 1 0 0 0 1 1 0 1 0 0 1 1 1 0 0 1 1 1 0 1 0 1 1 0 1 1 1\n",
            " 1 0 0 0 1 0 1 1 0 0 0 0 0 0 0 0 0 1 0 0 1 0 0 0 1 0 0 1 1 1 1 0 0 1 1 0 1\n",
            " 1 1 0 1 1 0 0 0 0 0 1 1 1 1 1 0 0 0]\n"
          ]
        }
      ]
    },
    {
      "cell_type": "code",
      "source": [
        "cv = RepeatedStratifiedKFold(n_splits = 10,n_repeats = 3,random_state = 1)\n",
        "print(\"Precisión (Acurracy) : \",'{0:.2%}'.format(accuracy_score(y_test,pred)))\n",
        "print(\"Puntuación de validación cruzada(Cross Validation Score) : \",'{0:.2%}'.format(cross_val_score(clf,X_train_enc,y_train,cv = cv,scoring = 'roc_auc').mean()))\n",
        "print(\"Puntuación ROC_AUC : \",'{0:.2%}'.format(roc_auc_score(y_test,pred)))\n",
        "RocCurveDisplay.from_estimator(clf, X_test_enc,y_test)\n",
        "plt.title('ROC_AUC')\n",
        "plt.show()"
      ],
      "metadata": {
        "colab": {
          "base_uri": "https://localhost:8080/",
          "height": 523
        },
        "id": "VH3b9h0siTWz",
        "outputId": "b1672805-c644-4705-fb54-61fd3ddc9a50"
      },
      "execution_count": null,
      "outputs": [
        {
          "output_type": "stream",
          "name": "stdout",
          "text": [
            "Precisión (Acurracy) :  84.78%\n",
            "Puntuación de validación cruzada(Cross Validation Score) :  91.70%\n",
            "Puntuación ROC_AUC :  84.85%\n"
          ]
        },
        {
          "output_type": "display_data",
          "data": {
            "text/plain": [
              "<Figure size 640x480 with 1 Axes>"
            ],
            "image/png": "[encoded data removed]"
          },
          "metadata": {}
        }
      ]
    },
    {
      "cell_type": "code",
      "source": [
        "colores = ['#55A4DB','#FFBF24']\n",
        "# Matriz de confusión\n",
        "\n",
        "cm = confusion_matrix(y_test,clf.predict(X_test_enc))\n",
        "nombres = ['Verdadero Negativo','Falso Positivo','Falso Negativo','Verdadero Positivo']\n",
        "counts = [value for value in cm.flatten()]\n",
        "porcentajes = ['{0:.2%}'.format(value) for value in cm.flatten()/np.sum(cm)]\n",
        "etiquetas = [f'{v1}\\n{v2}\\n{v3}' for v1, v2, v3 in zip(nombres,counts,porcentajes)]\n",
        "etiquetas = np.asarray(etiquetas).reshape(2,2)\n",
        "sns.heatmap(cm,annot = etiquetas,cmap = colores,fmt ='')\n",
        "\n",
        "# Informe con clasificaciones\n",
        "print(classification_report(y_test,clf.predict(X_test_enc)))"
      ],
      "metadata": {
        "colab": {
          "base_uri": "https://localhost:8080/",
          "height": 591
        },
        "id": "2D1o2G-5ikFf",
        "outputId": "4c5d24dc-c183-464a-88f5-8f53b1c816a1"
      },
      "execution_count": null,
      "outputs": [
        {
          "output_type": "stream",
          "name": "stdout",
          "text": [
            "              precision    recall  f1-score   support\n",
            "\n",
            "           0       0.83      0.86      0.84        44\n",
            "           1       0.87      0.83      0.85        48\n",
            "\n",
            "    accuracy                           0.85        92\n",
            "   macro avg       0.85      0.85      0.85        92\n",
            "weighted avg       0.85      0.85      0.85        92\n",
            "\n"
          ]
        },
        {
          "output_type": "display_data",
          "data": {
            "text/plain": [
              "<Figure size 640x480 with 2 Axes>"
            ],
            "image/png": "[encoded data removed]"
          },
          "metadata": {}
        }
      ]
    },
    {
      "cell_type": "code",
      "source": [],
      "metadata": {
        "id": "0Fnk_whujkey"
      },
      "execution_count": null,
      "outputs": []
    }
  ]
}